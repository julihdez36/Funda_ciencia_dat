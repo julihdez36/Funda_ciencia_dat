{
 "cells": [
  {
   "attachments": {},
   "cell_type": "markdown",
   "metadata": {},
   "source": [
    "## Manipulación y transformación de datos con Numpy\n",
    "\n",
    "**Numpy:** es un paquete enfocado en el calculo numérico y el manejo de arrays (objeto principal de Numpy).\n",
    "Es un muy veloz, optimiza el almacenamiento en memoria y nos permite trabajar con distintos tipos de datos."
   ]
  },
  {
   "cell_type": "code",
   "execution_count": 1,
   "metadata": {},
   "outputs": [
    {
     "name": "stdout",
     "output_type": "stream",
     "text": [
      "[1, 2, 3, 4, 5, 6, 7, 8, 9]\n",
      "<class 'list'>\n",
      "9\n"
     ]
    }
   ],
   "source": [
    "# Definimos una lista vector\n",
    "\n",
    "lista = list(range(1,10))\n",
    "print(lista) \n",
    "print(type(lista)) #Objeto lista\n",
    "print(len(lista))"
   ]
  },
  {
   "cell_type": "code",
   "execution_count": 6,
   "metadata": {},
   "outputs": [
    {
     "name": "stdout",
     "output_type": "stream",
     "text": [
      "<class 'list'>\n",
      "3\n",
      "[[1, 2, 3], [4, 5, 6], [7, 8, 9]]\n"
     ]
    }
   ],
   "source": [
    "#Definimos una lista matriz\n",
    "matriz = [[1,2,3],[4,5,6],[7,8,9]]\n",
    "print(type(matriz)) #Objeto lista\n",
    "print(len(matriz))\n",
    "print(matriz)"
   ]
  },
  {
   "cell_type": "code",
   "execution_count": 7,
   "metadata": {},
   "outputs": [],
   "source": [
    "# Importación de librerías\n",
    "\n",
    "#pip install numpy\n",
    "import numpy as np"
   ]
  },
  {
   "cell_type": "code",
   "execution_count": 8,
   "metadata": {},
   "outputs": [
    {
     "name": "stdout",
     "output_type": "stream",
     "text": [
      "<class 'numpy.ndarray'>\n",
      "9\n",
      "<class 'numpy.ndarray'>\n",
      "3\n",
      "[1 2 3 4 5 6 7 8 9]\n",
      "[[1 2 3]\n",
      " [4 5 6]\n",
      " [7 8 9]]\n"
     ]
    }
   ],
   "source": [
    "# Declaramos arrays\n",
    "arr = np.array(lista) # Convertimo una lista en un arreglo\n",
    "matriz = np.array(matriz) # Convirtiendolo en un array\n",
    "\n",
    "print(type(arr)) \n",
    "print(len(arr))\n",
    "print(type(matriz))\n",
    "print(len(matriz))\n",
    "print(arr) #Vector\n",
    "print(matriz) #Matriz"
   ]
  },
  {
   "cell_type": "code",
   "execution_count": 9,
   "metadata": {},
   "outputs": [
    {
     "name": "stdout",
     "output_type": "stream",
     "text": [
      "[1 2 3 4 5 6 7 8 9]\n",
      "3\n",
      "6\n",
      "9\n"
     ]
    }
   ],
   "source": [
    "# Indexing\n",
    "# Acceder a datos específicos de vectores\n",
    "print(arr)\n",
    "print(arr[2])\n",
    "print(arr[5])\n",
    "print(arr[2]+arr[5]) #Las indexaciones son operables"
   ]
  },
  {
   "cell_type": "code",
   "execution_count": 10,
   "metadata": {},
   "outputs": [
    {
     "name": "stdout",
     "output_type": "stream",
     "text": [
      "[[1 2 3]\n",
      " [4 5 6]\n",
      " [7 8 9]]\n",
      "[1 2 3]\n",
      "3\n"
     ]
    }
   ],
   "source": [
    "# Acceder a datos de una matriz\n",
    "print(matriz)\n",
    "print(matriz[0]) #La primera fila\n",
    "print(matriz[0,2]) # Fila 1 columna 3"
   ]
  },
  {
   "cell_type": "code",
   "execution_count": 11,
   "metadata": {},
   "outputs": [
    {
     "name": "stdout",
     "output_type": "stream",
     "text": [
      "[[1 2 3]\n",
      " [4 5 6]\n",
      " [7 8 9]]\n",
      "[[1 2 3]]\n"
     ]
    }
   ],
   "source": [
    "print(matriz)\n",
    "print(matriz[:1])"
   ]
  },
  {
   "cell_type": "code",
   "execution_count": 12,
   "metadata": {},
   "outputs": [
    {
     "name": "stdout",
     "output_type": "stream",
     "text": [
      "6\n",
      "[7 8 9]\n",
      "[3 6 9]\n"
     ]
    }
   ],
   "source": [
    "# impirman el numero 6\n",
    "print(matriz[1,2])\n",
    "# impriman el vecto [7,8,9]\n",
    "print(matriz[2])\n",
    "# impriman [3,6,9]\n",
    "print(matriz[:,2])"
   ]
  },
  {
   "cell_type": "code",
   "execution_count": 13,
   "metadata": {},
   "outputs": [
    {
     "name": "stdout",
     "output_type": "stream",
     "text": [
      "[1 3 5 7 9]\n",
      "[[4 5]\n",
      " [7 8]]\n"
     ]
    }
   ],
   "source": [
    "# Slicing: nos permite extraer varios datos\n",
    "print(arr[::2]) #start, stop, step\n",
    "\n",
    "print(matriz[1:,:2])"
   ]
  },
  {
   "cell_type": "code",
   "execution_count": 16,
   "metadata": {},
   "outputs": [
    {
     "name": "stdout",
     "output_type": "stream",
     "text": [
      "<class 'numpy.ndarray'>\n",
      "int32\n"
     ]
    }
   ],
   "source": [
    "# Tipo de datos: la optimización de numpy depende de que contenga sólo un tipo de datos\n",
    "\n",
    "print(type(arr)) #La estructura del objeto\n",
    "print(arr.dtype) #El tipo de objetos que contiene esta estructura"
   ]
  },
  {
   "cell_type": "code",
   "execution_count": 17,
   "metadata": {},
   "outputs": [
    {
     "name": "stdout",
     "output_type": "stream",
     "text": [
      "float64\n",
      "[0. 1. 2. 3. 4.]\n"
     ]
    }
   ],
   "source": [
    "# cambiar el tipo de datos\n",
    "\n",
    "arr1 = np.array([0,1,2,3,4], dtype = 'float64')\n",
    "print(arr1.dtype)\n",
    "print(arr1)\n",
    "arr1.astype(np.bool_) # Coercionarlo"
   ]
  },
  {
   "cell_type": "code",
   "execution_count": 26,
   "metadata": {},
   "outputs": [
    {
     "name": "stdout",
     "output_type": "stream",
     "text": [
      "[1 2 3 4 5 6 7 8 9]\n",
      "[0 2 3 4 5 6 7 8 9]\n",
      "[False  True  True  True  True  True  True  True  True]\n"
     ]
    }
   ],
   "source": [
    "# Coerción de tipo de datos\n",
    "print(arr)\n",
    "arr[0:1] = 0 \n",
    "print(arr)\n",
    "arr_b = arr.astype(np.bool_)\n",
    "print(arr_b)"
   ]
  },
  {
   "cell_type": "code",
   "execution_count": 32,
   "metadata": {},
   "outputs": [
    {
     "name": "stdout",
     "output_type": "stream",
     "text": [
      "5\n",
      "0\n"
     ]
    }
   ],
   "source": [
    "# Dimensiones de los arrat\n",
    "# Escalar (dim=0), vector (1), matriz (2), tensor (n>2)\n",
    "\n",
    "escalar = np.array(5)\n",
    "print(escalar)\n",
    "print(escalar.ndim)"
   ]
  },
  {
   "cell_type": "code",
   "execution_count": 36,
   "metadata": {},
   "outputs": [
    {
     "data": {
      "text/plain": [
       "3"
      ]
     },
     "execution_count": 36,
     "metadata": {},
     "output_type": "execute_result"
    }
   ],
   "source": [
    "# métodos: astype ndim\n",
    "arr.ndim, matriz.ndim"
   ]
  },
  {
   "cell_type": "code",
   "execution_count": 39,
   "metadata": {},
   "outputs": [
    {
     "data": {
      "text/plain": [
       "array([ 5. ,  7.5, 10. , 12.5, 15. , 17.5, 20. ])"
      ]
     },
     "execution_count": 39,
     "metadata": {},
     "output_type": "execute_result"
    }
   ],
   "source": [
    "# Métodos para crear array\n",
    "\n",
    "np.arange(10) #un vector en el intervalo especificado\n",
    "np.arange(5,21)\n",
    "np.arange(5,21,2.5) #Los array si soportan decimales en step"
   ]
  },
  {
   "cell_type": "code",
   "execution_count": 41,
   "metadata": {},
   "outputs": [
    {
     "data": {
      "text/plain": [
       "(array([ 0.        ,  0.90909091,  1.81818182,  2.72727273,  3.63636364,\n",
       "         4.54545455,  5.45454545,  6.36363636,  7.27272727,  8.18181818,\n",
       "         9.09090909, 10.        ]),\n",
       " 12)"
      ]
     },
     "execution_count": 41,
     "metadata": {},
     "output_type": "execute_result"
    }
   ],
   "source": [
    "x = np.linspace(0,10,12) #start, stop, num\n",
    "x, len(x)"
   ]
  },
  {
   "cell_type": "code",
   "execution_count": 63,
   "metadata": {},
   "outputs": [
    {
     "name": "stdout",
     "output_type": "stream",
     "text": [
      "[[ 7  6 12  8  1]\n",
      " [ 6  2  8  1  5]\n",
      " [13  7 11  1  6]\n",
      " [11  6  1  3 14]\n",
      " [ 2  1  7 12  6]]\n"
     ]
    }
   ],
   "source": [
    "np.random.rand(4,4) #Valores aleatorios en dimensión\n",
    "print(np.random.randint(1,15,[5,5])) #Valor entero"
   ]
  },
  {
   "cell_type": "code",
   "execution_count": 71,
   "metadata": {},
   "outputs": [
    {
     "name": "stdout",
     "output_type": "stream",
     "text": [
      "[[ 0.          0.90909091  1.81818182]\n",
      " [ 2.72727273  3.63636364  4.54545455]\n",
      " [ 5.45454545  6.36363636  7.27272727]\n",
      " [ 8.18181818  9.09090909 10.        ]]\n",
      "(4, 3)\n",
      "[[ 0.          0.90909091  1.81818182]\n",
      " [ 2.72727273  3.63636364  4.54545455]\n",
      " [ 5.45454545  6.36363636  7.27272727]\n",
      " [ 8.18181818  9.09090909 10.        ]]\n",
      "(4, 3)\n"
     ]
    }
   ],
   "source": [
    "# Shape y Reshape\n",
    "print(x)\n",
    "print(x.shape)\n",
    "\n",
    "x = x.reshape(4,3)\n",
    "print(x)\n",
    "print(x.shape)\n"
   ]
  },
  {
   "cell_type": "code",
   "execution_count": 79,
   "metadata": {},
   "outputs": [
    {
     "name": "stdout",
     "output_type": "stream",
     "text": [
      "[[ 6 14  3 19  4  9 17  1 11  4]\n",
      " [15  0 12  3  3  4 19 12  5  3]\n",
      " [ 0  5  1 19  7 17 15  2 15  3]\n",
      " [19 17  9 18  1  9 10  7 13 12]\n",
      " [ 2  5  1 17  7 12  1 17  2  9]\n",
      " [15  5  4 19 11 16  9 17  7 16]\n",
      " [ 5  1 13 19 19  4  5 17 17 16]\n",
      " [13 17  1  6  4 17  4  0 11  0]\n",
      " [ 7 11  2 18 15  8 11 11 10 13]\n",
      " [ 2 11  0  8 16  2 19  2 14 12]]\n"
     ]
    }
   ],
   "source": [
    "# Creen una matriz de 10 por 10 de valores enteros aleatorios entre 0 y 20\n",
    "\n",
    "matriz = np.random.randint(0,20,[10,10]) #Valor entero\n",
    "print(matriz)\n",
    "\n",
    "#Que modifiquen la forma o tamaño de la matriz que ahora tenga 20 filas\n",
    "\n",
    "matriz = matriz.reshape(20,5)"
   ]
  },
  {
   "cell_type": "code",
   "execution_count": 80,
   "metadata": {},
   "outputs": [
    {
     "name": "stdout",
     "output_type": "stream",
     "text": [
      "[[ 6 14  3 19  4]\n",
      " [ 9 17  1 11  4]\n",
      " [15  0 12  3  3]\n",
      " [ 4 19 12  5  3]\n",
      " [ 0  5  1 19  7]\n",
      " [17 15  2 15  3]\n",
      " [19 17  9 18  1]\n",
      " [ 9 10  7 13 12]\n",
      " [ 2  5  1 17  7]\n",
      " [12  1 17  2  9]\n",
      " [15  5  4 19 11]\n",
      " [16  9 17  7 16]\n",
      " [ 5  1 13 19 19]\n",
      " [ 4  5 17 17 16]\n",
      " [13 17  1  6  4]\n",
      " [17  4  0 11  0]\n",
      " [ 7 11  2 18 15]\n",
      " [ 8 11 11 10 13]\n",
      " [ 2 11  0  8 16]\n",
      " [ 2 19  2 14 12]]\n"
     ]
    }
   ],
   "source": [
    "print(matriz)"
   ]
  },
  {
   "cell_type": "code",
   "execution_count": 90,
   "metadata": {},
   "outputs": [
    {
     "data": {
      "text/plain": [
       "19"
      ]
     },
     "execution_count": 90,
     "metadata": {},
     "output_type": "execute_result"
    }
   ],
   "source": [
    "# Métodos numéricos para el análisis estadistico\n",
    "\n",
    "#Métodos de rango\n",
    "matriz.max()\n",
    "matriz.min(0) #0: columnas y 1: filas\n",
    "\n",
    "matriz.argmax() #Me da el indice\n",
    "\n",
    "matriz.ptp() #Max - min = rango \n"
   ]
  },
  {
   "cell_type": "code",
   "execution_count": 92,
   "metadata": {},
   "outputs": [
    {
     "name": "stdout",
     "output_type": "stream",
     "text": [
      "9.0\n",
      "9.36\n"
     ]
    }
   ],
   "source": [
    "# Medidas de centralidad\n",
    "\n",
    "print(np.median(matriz)) #Mediana (percentiles)\n",
    "print(np.mean(matriz)) #Media"
   ]
  },
  {
   "cell_type": "code",
   "execution_count": 96,
   "metadata": {},
   "outputs": [
    {
     "data": {
      "text/plain": [
       "15.0"
      ]
     },
     "execution_count": 96,
     "metadata": {},
     "output_type": "execute_result"
    }
   ],
   "source": [
    "# Medidas de posición\n",
    "\n",
    "np.percentile(matriz,25)\n",
    "np.percentile(matriz,50) # Percentil 50\n",
    "np.percentile(matriz,75)"
   ]
  },
  {
   "cell_type": "code",
   "execution_count": 98,
   "metadata": {},
   "outputs": [
    {
     "data": {
      "text/plain": [
       "6.197612443514035"
      ]
     },
     "execution_count": 98,
     "metadata": {},
     "output_type": "execute_result"
    }
   ],
   "source": [
    "#Medidas de dispersión\n",
    "\n",
    "np.var(matriz)\n",
    "np.std(matriz)"
   ]
  },
  {
   "cell_type": "markdown",
   "metadata": {},
   "source": [
    "# Para casa\n",
    "1. Cree una matriz de 8 por 8 de valores enteros aleatorios entre 0 y 20 \n",
    "2. Cree un nuevo objeto que sea la misma matriz pero con 4 columnas\n",
    "3. Acceda a la posición (6,4) de la matriz 1\n",
    "4. Acceda a la posición (16,4) de la matriz 1\n",
    "5. Acceda a la matriz subconjunto de la matriz 1 que va de la fila 5 a la 8 y de la columna 3 a la 7.\n",
    "6. Cree un vector aleatorio de 60 elementos entre 0 y 100. Asuma que es un vector de edades de una muestra. Calcule la medidas de estadisticas e interprete."
   ]
  }
 ],
 "metadata": {
  "kernelspec": {
   "display_name": "Python 3",
   "language": "python",
   "name": "python3"
  },
  "language_info": {
   "codemirror_mode": {
    "name": "ipython",
    "version": 3
   },
   "file_extension": ".py",
   "mimetype": "text/x-python",
   "name": "python",
   "nbconvert_exporter": "python",
   "pygments_lexer": "ipython3",
   "version": "3.11.3"
  },
  "orig_nbformat": 4
 },
 "nbformat": 4,
 "nbformat_minor": 2
}
