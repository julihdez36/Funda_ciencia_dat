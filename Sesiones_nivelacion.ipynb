{
 "cells": [
  {
   "cell_type": "markdown",
   "id": "7e9d11ae",
   "metadata": {},
   "source": [
    "## Seminario de nivelación \n",
    "\n",
    "#### Primera parte: Introducción a la estadística computacional\n",
    "\n",
    "Métricas para el **análisis de datos**."
   ]
  },
  {
   "cell_type": "code",
   "execution_count": null,
   "id": "59e77013",
   "metadata": {},
   "outputs": [
    {
     "name": "stdout",
     "output_type": "stream",
     "text": [
      "Bienvenidos al seminario de nivelación\n"
     ]
    }
   ],
   "source": [
    "# Esto es un print \n",
    "\n",
    "print('Bienvenidos al seminario de nivelación')"
   ]
  },
  {
   "cell_type": "code",
   "execution_count": 14,
   "id": "db00b599",
   "metadata": {},
   "outputs": [
    {
     "name": "stdout",
     "output_type": "stream",
     "text": [
      "[1, 3, 5, 7, 9, 11, 13, 15, 17, 19]\n",
      "<class 'list'>\n"
     ]
    }
   ],
   "source": [
    "# Listas\n",
    "\n",
    "lista1 = []\n",
    "type(lista1)\n",
    "\n",
    "lista2 = list(range(1,20,2))\n",
    "print(lista2)\n",
    "print(type(lista2))"
   ]
  },
  {
   "cell_type": "code",
   "execution_count": null,
   "id": "83e53c02",
   "metadata": {},
   "outputs": [
    {
     "data": {
      "text/plain": [
       "[0, 2, 4, 6, 8, 10, 12, 14, 16, 18, 20, 22, 24, 26, 28, 30, 32, 34, 36, 38]"
      ]
     },
     "execution_count": 5,
     "metadata": {},
     "output_type": "execute_result"
    }
   ],
   "source": [
    "[x*2 for x in range(20)] "
   ]
  },
  {
   "cell_type": "code",
   "execution_count": 18,
   "id": "30f28818",
   "metadata": {},
   "outputs": [
    {
     "data": {
      "text/plain": [
       "[0, 2, 4, 6, 8, 10, 12, 14, 16, 18, 20, 22, 24, 26, 28, 30, 32, 34, 36, 38]"
      ]
     },
     "execution_count": 18,
     "metadata": {},
     "output_type": "execute_result"
    }
   ],
   "source": [
    "lista_for = []\n",
    "\n",
    "for x in range(20):\n",
    "    lista_for.append(x*2)\n",
    "\n",
    "lista_for"
   ]
  },
  {
   "cell_type": "code",
   "execution_count": 22,
   "id": "b4e2f843",
   "metadata": {},
   "outputs": [],
   "source": [
    "import random"
   ]
  },
  {
   "cell_type": "code",
   "execution_count": 49,
   "id": "a3124b41",
   "metadata": {},
   "outputs": [
    {
     "name": "stdout",
     "output_type": "stream",
     "text": [
      "[65, 50, 92, 25, 87, 90, 50, 61, 33, 79, 83, 26, 45, 82, 69, 49, 91, 69, 27, 80, 89, 38, 29, 95, 94, 68, 74, 46, 46, 83, 81, 82, 76, 42, 42, 47, 73, 30, 26, 82, 71, 59, 34, 95, 73, 83, 49, 54, 61, 77]\n"
     ]
    }
   ],
   "source": [
    "lista = []\n",
    "\n",
    "for x in range(50):\n",
    "    lista.append(int(random.uniform(25,100)))\n",
    "\n",
    "print(lista)"
   ]
  },
  {
   "cell_type": "code",
   "execution_count": 53,
   "id": "db0d81a6",
   "metadata": {},
   "outputs": [
    {
     "name": "stdout",
     "output_type": "stream",
     "text": [
      "La longitud del vector es 50 \n",
      " El valor mínimo es 25 \n",
      " y el máximo es 95\n"
     ]
    }
   ],
   "source": [
    "n = len(lista)\n",
    "minimo = min(lista)\n",
    "maximo = max(lista)\n",
    "\n",
    "print(f'La longitud del vector es {n} \\n El valor mínimo es {minimo} \\n y el máximo es {maximo}')"
   ]
  },
  {
   "cell_type": "code",
   "execution_count": 62,
   "id": "62c4f0d1",
   "metadata": {},
   "outputs": [],
   "source": [
    "def rango_estadistico(ingreso_lista):\n",
    "    minimo = min(ingreso_lista)\n",
    "    maximo = max(ingreso_lista)\n",
    "    return maximo - minimo"
   ]
  },
  {
   "cell_type": "code",
   "execution_count": 63,
   "id": "1d4e40df",
   "metadata": {},
   "outputs": [
    {
     "data": {
      "text/plain": [
       "3"
      ]
     },
     "execution_count": 63,
     "metadata": {},
     "output_type": "execute_result"
    }
   ],
   "source": [
    "rango_estadistico([1,2,3,4])"
   ]
  },
  {
   "cell_type": "code",
   "execution_count": 65,
   "id": "27b45103",
   "metadata": {},
   "outputs": [
    {
     "data": {
      "text/plain": [
       "3152"
      ]
     },
     "execution_count": 65,
     "metadata": {},
     "output_type": "execute_result"
    }
   ],
   "source": [
    "sum(lista)"
   ]
  },
  {
   "cell_type": "markdown",
   "id": "8661019c",
   "metadata": {},
   "source": [
    "Media estadística\n",
    "\n",
    "$$\\bar{x} = \\frac{1}{n} \\sum_{i=1}^{n} x_{i}$$"
   ]
  },
  {
   "cell_type": "code",
   "execution_count": 68,
   "id": "130f606c",
   "metadata": {},
   "outputs": [
    {
     "data": {
      "text/plain": [
       "63.04"
      ]
     },
     "execution_count": 68,
     "metadata": {},
     "output_type": "execute_result"
    }
   ],
   "source": [
    "sum(lista) / len(lista)"
   ]
  },
  {
   "cell_type": "code",
   "execution_count": 80,
   "id": "a44a23b0",
   "metadata": {},
   "outputs": [],
   "source": [
    "def media(lista):\n",
    "    return sum(lista) / len(lista)"
   ]
  },
  {
   "cell_type": "code",
   "execution_count": 78,
   "id": "04766887",
   "metadata": {},
   "outputs": [],
   "source": [
    "def media_larga(lista):\n",
    "    suma = sum(lista)\n",
    "    n = len(lista)\n",
    "    media = suma / n\n",
    "    return media"
   ]
  },
  {
   "cell_type": "code",
   "execution_count": 79,
   "id": "065e9b48",
   "metadata": {},
   "outputs": [
    {
     "data": {
      "text/plain": [
       "(63.04, 63.04)"
      ]
     },
     "execution_count": 79,
     "metadata": {},
     "output_type": "execute_result"
    }
   ],
   "source": [
    "media(lista), media_larga(lista)"
   ]
  },
  {
   "cell_type": "markdown",
   "id": "0bcb754e",
   "metadata": {},
   "source": [
    "Varianza\n",
    "\n",
    "$$s^2 = \\frac{1}{n} \\sum_{i=1}^{n} (x_{i} - \\bar{x})^2$$"
   ]
  },
  {
   "cell_type": "code",
   "execution_count": 81,
   "id": "b4f249c8",
   "metadata": {},
   "outputs": [],
   "source": [
    "def varianza(lista):\n",
    "    n = len(lista) # longitud del vector\n",
    "    x_barra = media(lista) # media que creamos arriba\n",
    "    diferencia = [] # lista vacia para ir rellenando\n",
    "    for x in lista:\n",
    "        diferencia.append((x - x_barra)**2) # la diferencia al cuadrado\n",
    "    return 1/n * sum(diferencia) "
   ]
  },
  {
   "cell_type": "code",
   "execution_count": 86,
   "id": "c0baca7e",
   "metadata": {},
   "outputs": [
    {
     "data": {
      "text/plain": [
       "34.449932413341166"
      ]
     },
     "execution_count": 86,
     "metadata": {},
     "output_type": "execute_result"
    }
   ],
   "source": [
    "varianza(lista) ** (1/2) / media(lista) * 100"
   ]
  },
  {
   "cell_type": "code",
   "execution_count": null,
   "id": "3febb703",
   "metadata": {},
   "outputs": [],
   "source": []
  }
 ],
 "metadata": {
  "kernelspec": {
   "display_name": "base",
   "language": "python",
   "name": "python3"
  },
  "language_info": {
   "codemirror_mode": {
    "name": "ipython",
    "version": 3
   },
   "file_extension": ".py",
   "mimetype": "text/x-python",
   "name": "python",
   "nbconvert_exporter": "python",
   "pygments_lexer": "ipython3",
   "version": "3.11.9"
  }
 },
 "nbformat": 4,
 "nbformat_minor": 5
}
