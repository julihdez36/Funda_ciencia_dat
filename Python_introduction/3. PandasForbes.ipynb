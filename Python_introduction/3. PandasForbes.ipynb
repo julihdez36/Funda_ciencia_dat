{
 "cells": [
  {
   "attachments": {},
   "cell_type": "markdown",
   "metadata": {},
   "source": [
    "# Proyecto Forbes 2000 - 2021 \n",
    "## Manipulación y transformación de datos con Pandas y Numpy\n",
    "01.07.23\n",
    "\n",
    "**Pandas**: paquete enfocado en la manipulación y análisis de datos. Está construido sobre Numpy, requiero poco código para manipular datos. Soporta múltiples formatos de atchivos. \n",
    "\n",
    "Pandas trabaja don cos objetos que derivan de los array de Numpy:\n",
    "1. Pandas Series: array unidimensional de np o vector.\n",
    "2. DataFrame: estructura principal de Pandas (Matriz)."
   ]
  },
  {
   "cell_type": "code",
   "execution_count": 1,
   "metadata": {},
   "outputs": [],
   "source": [
    "# Importemos librerías de trabajo\n",
    "# pip list : me muestra qué paquetes tengo instalados\n",
    "# pip install : instalo los paquete que desee\n",
    "\n",
    "import os #Para directorio de trabajo\n",
    "import numpy as np #Métodos numéricos y arrays\n",
    "import pandas as pd #Manipulación de DF"
   ]
  },
  {
   "cell_type": "code",
   "execution_count": 2,
   "metadata": {},
   "outputs": [
    {
     "name": "stdout",
     "output_type": "stream",
     "text": [
      "3     Julian\n",
      "2      Maria\n",
      "1      Pedro\n",
      "4    Natalia\n",
      "dtype: object\n",
      "Pedro\n",
      "<class 'pandas.core.series.Series'>\n"
     ]
    }
   ],
   "source": [
    "# Pandas series = vector\n",
    "\n",
    "vector = pd.Series(['Julian','Maria','Pedro','Natalia'], index= [3,2,1,4])\n",
    "print(vector)\n",
    "print(vector[1])\n",
    "print(type(vector))"
   ]
  },
  {
   "cell_type": "code",
   "execution_count": 3,
   "metadata": {},
   "outputs": [
    {
     "name": "stdout",
     "output_type": "stream",
     "text": [
      "Pedro\n",
      "1      Pedro\n",
      "4    Natalia\n",
      "3     Julian\n",
      "dtype: object\n"
     ]
    }
   ],
   "source": [
    "# Accedo a el dato con el indexado establecido\n",
    "print(vector[1])\n",
    "\n",
    "# Accedo a varios datos con el indexado\n",
    "print(vector[[1,4,3]])"
   ]
  },
  {
   "cell_type": "code",
   "execution_count": 4,
   "metadata": {},
   "outputs": [
    {
     "name": "stdout",
     "output_type": "stream",
     "text": [
      "['Julian', 'Maria', 'Pedro', 'Natalia']\n"
     ]
    }
   ],
   "source": [
    "# Para crear un data frame, podemos hacer uso de diccionario\n",
    "\n",
    "dic = {'Nombres': ['Julian','Maria','Pedro','Natalia'],\n",
    "       'Edad': [28,30,25,22],\n",
    "       'Altura': [173,165,178,170]}\n",
    "\n",
    "print(dic['Nombres'])\n",
    "\n",
    "df_flia = pd.DataFrame(dic)"
   ]
  },
  {
   "cell_type": "code",
   "execution_count": 5,
   "metadata": {},
   "outputs": [
    {
     "name": "stdout",
     "output_type": "stream",
     "text": [
      "   Nombres  Edad  Altura\n",
      "0   Julian    28     173\n",
      "1    Maria    30     165\n",
      "2    Pedro    25     178\n",
      "3  Natalia    22     170\n"
     ]
    }
   ],
   "source": [
    "print(df_flia)"
   ]
  },
  {
   "cell_type": "code",
   "execution_count": 6,
   "metadata": {},
   "outputs": [
    {
     "data": {
      "text/plain": [
       "2    25\n",
       "Name: Edad, dtype: int64"
      ]
     },
     "execution_count": 6,
     "metadata": {},
     "output_type": "execute_result"
    }
   ],
   "source": [
    "# Filtros o slicing\n",
    "\n",
    "df_flia[1:3] # Filas de la 1 a la 3\n",
    "df_flia[:] # Todo el DF\n",
    "df_flia['Edad'] # Edad\n",
    "df_flia[2:3]['Edad'] #Edad de Pedro"
   ]
  },
  {
   "cell_type": "markdown",
   "metadata": {},
   "source": [
    "## Proyecto Forbes\n",
    "\n",
    "### Fortune Global 2000 Companies (2021)\n",
    "Fortune Global 2000 Companies with Sales, Profits, Assets, Market Value\n",
    "\n",
    "List of top 2000 companies with their total sales, total profits, total assets, and total market value\n",
    "\n",
    "Since 2003, Forbes’ Global 2000 list has measured the world’s largest public companies in terms of four equally weighted metrics: assets, market value, sales and profits. Last year’s edition offered a glimpse into the early economic implications of the Covid-19 pandemic. Now, we see the results over 12 months of market turmoil and unfathomable human loss.\n",
    "\n",
    "### Features\n",
    "\n",
    "- ranking   : Ranking\n",
    "- Name    : Name de la compania\n",
    "- Country      : Country de procedencia de la compania\n",
    "- Sales    : Sales\n",
    "- Profits : Profits\n",
    "- Assets   : Assets\n",
    "- Market_value     : Market_value de la compania en el mercado\n",
    "\n",
    "\n",
    "*Nota: cifras en millones de dolares\n",
    "\n",
    "\n",
    "Source: https://www.forbes.com/lists/global2000/#7e9e39675ac0"
   ]
  },
  {
   "cell_type": "code",
   "execution_count": 2,
   "metadata": {},
   "outputs": [],
   "source": [
    "# Establezcamos directorio de trabajo\n",
    "\n",
    "os.chdir('C:/Users/USUARIO/Desktop/Trabajo/Iberoamericana/Cursos/IA')"
   ]
  },
  {
   "cell_type": "code",
   "execution_count": 3,
   "metadata": {},
   "outputs": [
    {
     "data": {
      "text/plain": [
       "['Data set', 'Sesion 1.ipynb', 'Sesion 3.ipynb']"
      ]
     },
     "execution_count": 3,
     "metadata": {},
     "output_type": "execute_result"
    }
   ],
   "source": [
    "os.getcwd() #Muestreme el directorio de trabajo\n",
    "os.listdir() #Archivos en el ditrectorio de trabajo"
   ]
  },
  {
   "cell_type": "code",
   "execution_count": 4,
   "metadata": {},
   "outputs": [],
   "source": [
    "# Importar base de datos\n",
    "\n",
    "forbes21 = pd.read_csv('Data set/Forbes 2000 2021.csv',encoding= 'latin-1',sep=';')"
   ]
  },
  {
   "cell_type": "code",
   "execution_count": 6,
   "metadata": {},
   "outputs": [
    {
     "data": {
      "text/html": [
       "<div>\n",
       "<style scoped>\n",
       "    .dataframe tbody tr th:only-of-type {\n",
       "        vertical-align: middle;\n",
       "    }\n",
       "\n",
       "    .dataframe tbody tr th {\n",
       "        vertical-align: top;\n",
       "    }\n",
       "\n",
       "    .dataframe thead th {\n",
       "        text-align: right;\n",
       "    }\n",
       "</style>\n",
       "<table border=\"1\" class=\"dataframe\">\n",
       "  <thead>\n",
       "    <tr style=\"text-align: right;\">\n",
       "      <th></th>\n",
       "      <th>Rank</th>\n",
       "      <th>Company Name</th>\n",
       "      <th>Country</th>\n",
       "      <th>Sales\\n($millions)</th>\n",
       "      <th>Profits\\n($millions)</th>\n",
       "      <th>Assets\\n($millions)</th>\n",
       "      <th>Market Value \\nAs of 5/13/21 ($m)</th>\n",
       "    </tr>\n",
       "  </thead>\n",
       "  <tbody>\n",
       "    <tr>\n",
       "      <th>0</th>\n",
       "      <td>1</td>\n",
       "      <td>ICBC</td>\n",
       "      <td>China</td>\n",
       "      <td>$190,500</td>\n",
       "      <td>$45,800</td>\n",
       "      <td>$4,914,700</td>\n",
       "      <td>$249,500</td>\n",
       "    </tr>\n",
       "    <tr>\n",
       "      <th>1</th>\n",
       "      <td>2</td>\n",
       "      <td>JPMorgan Chase</td>\n",
       "      <td>United States</td>\n",
       "      <td>$136,200</td>\n",
       "      <td>$40,400</td>\n",
       "      <td>$3,689,300</td>\n",
       "      <td>$464,800</td>\n",
       "    </tr>\n",
       "    <tr>\n",
       "      <th>2</th>\n",
       "      <td>3</td>\n",
       "      <td>Berkshire Hathaway</td>\n",
       "      <td>United States</td>\n",
       "      <td>$245,500</td>\n",
       "      <td>$42,500</td>\n",
       "      <td>$873,700</td>\n",
       "      <td>$624,400</td>\n",
       "    </tr>\n",
       "    <tr>\n",
       "      <th>3</th>\n",
       "      <td>4</td>\n",
       "      <td>China Construction Bank</td>\n",
       "      <td>China</td>\n",
       "      <td>$173,500</td>\n",
       "      <td>$39,300</td>\n",
       "      <td>$4,301,700</td>\n",
       "      <td>$210,400</td>\n",
       "    </tr>\n",
       "    <tr>\n",
       "      <th>4</th>\n",
       "      <td>5</td>\n",
       "      <td>Saudi Arabian Oil Company (Saudi Aramco)</td>\n",
       "      <td>Saudi Arabia</td>\n",
       "      <td>$229,700</td>\n",
       "      <td>$49,300</td>\n",
       "      <td>$510,300</td>\n",
       "      <td>$1,897,200</td>\n",
       "    </tr>\n",
       "    <tr>\n",
       "      <th>...</th>\n",
       "      <td>...</td>\n",
       "      <td>...</td>\n",
       "      <td>...</td>\n",
       "      <td>...</td>\n",
       "      <td>...</td>\n",
       "      <td>...</td>\n",
       "      <td>...</td>\n",
       "    </tr>\n",
       "    <tr>\n",
       "      <th>1995</th>\n",
       "      <td>1996</td>\n",
       "      <td>JTEKT</td>\n",
       "      <td>Japan</td>\n",
       "      <td>$13,100</td>\n",
       "      <td>-$35</td>\n",
       "      <td>$12,000</td>\n",
       "      <td>$3,500</td>\n",
       "    </tr>\n",
       "    <tr>\n",
       "      <th>1996</th>\n",
       "      <td>1997</td>\n",
       "      <td>Insurance Australia Group</td>\n",
       "      <td>Australia</td>\n",
       "      <td>$5,400</td>\n",
       "      <td>-$212</td>\n",
       "      <td>$25,000</td>\n",
       "      <td>$9,300</td>\n",
       "    </tr>\n",
       "    <tr>\n",
       "      <th>1997</th>\n",
       "      <td>1998</td>\n",
       "      <td>Sumec Corporation</td>\n",
       "      <td>China</td>\n",
       "      <td>$13,000</td>\n",
       "      <td>$79</td>\n",
       "      <td>$7,100</td>\n",
       "      <td>$1,300</td>\n",
       "    </tr>\n",
       "    <tr>\n",
       "      <th>1998</th>\n",
       "      <td>1999</td>\n",
       "      <td>Gold Fields</td>\n",
       "      <td>South Africa</td>\n",
       "      <td>$3,900</td>\n",
       "      <td>$718</td>\n",
       "      <td>$7,500</td>\n",
       "      <td>$8,900</td>\n",
       "    </tr>\n",
       "    <tr>\n",
       "      <th>1999</th>\n",
       "      <td>2000</td>\n",
       "      <td>Paycom</td>\n",
       "      <td>United States</td>\n",
       "      <td>$841</td>\n",
       "      <td>$143</td>\n",
       "      <td>$2,600</td>\n",
       "      <td>$24,000</td>\n",
       "    </tr>\n",
       "  </tbody>\n",
       "</table>\n",
       "<p>2000 rows × 7 columns</p>\n",
       "</div>"
      ],
      "text/plain": [
       "      Rank                              Company Name        Country  \\\n",
       "0        1                                      ICBC          China   \n",
       "1        2                            JPMorgan Chase  United States   \n",
       "2        3                        Berkshire Hathaway  United States   \n",
       "3        4                   China Construction Bank          China   \n",
       "4        5  Saudi Arabian Oil Company (Saudi Aramco)   Saudi Arabia   \n",
       "...    ...                                       ...            ...   \n",
       "1995  1996                                     JTEKT          Japan   \n",
       "1996  1997                 Insurance Australia Group      Australia   \n",
       "1997  1998                         Sumec Corporation          China   \n",
       "1998  1999                               Gold Fields   South Africa   \n",
       "1999  2000                                    Paycom  United States   \n",
       "\n",
       "     Sales\\n($millions) Profits\\n($millions) Assets\\n($millions)  \\\n",
       "0             $190,500              $45,800           $4,914,700   \n",
       "1             $136,200              $40,400           $3,689,300   \n",
       "2             $245,500              $42,500             $873,700   \n",
       "3             $173,500              $39,300           $4,301,700   \n",
       "4             $229,700              $49,300             $510,300   \n",
       "...                 ...                  ...                 ...   \n",
       "1995           $13,100                 -$35              $12,000   \n",
       "1996            $5,400                -$212              $25,000   \n",
       "1997           $13,000                  $79               $7,100   \n",
       "1998            $3,900                 $718               $7,500   \n",
       "1999              $841                 $143               $2,600   \n",
       "\n",
       "     Market Value \\nAs of 5/13/21 ($m)  \n",
       "0                             $249,500  \n",
       "1                             $464,800  \n",
       "2                             $624,400  \n",
       "3                             $210,400  \n",
       "4                           $1,897,200  \n",
       "...                                ...  \n",
       "1995                            $3,500  \n",
       "1996                            $9,300  \n",
       "1997                            $1,300  \n",
       "1998                            $8,900  \n",
       "1999                           $24,000  \n",
       "\n",
       "[2000 rows x 7 columns]"
      ]
     },
     "execution_count": 6,
     "metadata": {},
     "output_type": "execute_result"
    }
   ],
   "source": [
    "forbes21"
   ]
  },
  {
   "cell_type": "code",
   "execution_count": 5,
   "metadata": {},
   "outputs": [
    {
     "data": {
      "text/plain": [
       "(2000, 7)"
      ]
     },
     "execution_count": 5,
     "metadata": {},
     "output_type": "execute_result"
    }
   ],
   "source": [
    "# Para ver la FORMA del DF\n",
    "forbes21.shape # (Fila,columna)"
   ]
  },
  {
   "cell_type": "code",
   "execution_count": 6,
   "metadata": {},
   "outputs": [
    {
     "data": {
      "text/plain": [
       "Index(['Rank', 'Company Name', 'Country', 'Sales\\n($millions)',\n",
       "       'Profits\\n($millions)', 'Assets\\n($millions)',\n",
       "       'Market Value \\nAs of 5/13/21 ($m)'],\n",
       "      dtype='object')"
      ]
     },
     "execution_count": 6,
     "metadata": {},
     "output_type": "execute_result"
    }
   ],
   "source": [
    "### Data cleaning \n",
    "\n",
    "# Qué variables tengo\n",
    "\n",
    "forbes21.columns"
   ]
  },
  {
   "cell_type": "code",
   "execution_count": 7,
   "metadata": {},
   "outputs": [
    {
     "data": {
      "text/plain": [
       "Index(['Rank', 'Company', 'Country', 'Sales', 'Profits', 'Assets',\n",
       "       'Market_value'],\n",
       "      dtype='object')"
      ]
     },
     "execution_count": 7,
     "metadata": {},
     "output_type": "execute_result"
    }
   ],
   "source": [
    "#Cambiar nombre de variables\n",
    "forbes21.columns = ['Rank','Company','Country','Sales','Profits','Assets','Market_value']\n",
    "forbes21.columns"
   ]
  },
  {
   "cell_type": "code",
   "execution_count": 8,
   "metadata": {},
   "outputs": [
    {
     "data": {
      "text/html": [
       "<div>\n",
       "<style scoped>\n",
       "    .dataframe tbody tr th:only-of-type {\n",
       "        vertical-align: middle;\n",
       "    }\n",
       "\n",
       "    .dataframe tbody tr th {\n",
       "        vertical-align: top;\n",
       "    }\n",
       "\n",
       "    .dataframe thead th {\n",
       "        text-align: right;\n",
       "    }\n",
       "</style>\n",
       "<table border=\"1\" class=\"dataframe\">\n",
       "  <thead>\n",
       "    <tr style=\"text-align: right;\">\n",
       "      <th></th>\n",
       "      <th>Rank</th>\n",
       "      <th>Company</th>\n",
       "      <th>Country</th>\n",
       "      <th>Sales</th>\n",
       "      <th>Profits</th>\n",
       "      <th>Assets</th>\n",
       "      <th>Market_value</th>\n",
       "    </tr>\n",
       "  </thead>\n",
       "  <tbody>\n",
       "    <tr>\n",
       "      <th>0</th>\n",
       "      <td>1</td>\n",
       "      <td>ICBC</td>\n",
       "      <td>China</td>\n",
       "      <td>$190,500</td>\n",
       "      <td>$45,800</td>\n",
       "      <td>$4,914,700</td>\n",
       "      <td>$249,500</td>\n",
       "    </tr>\n",
       "    <tr>\n",
       "      <th>1</th>\n",
       "      <td>2</td>\n",
       "      <td>JPMorgan Chase</td>\n",
       "      <td>United States</td>\n",
       "      <td>$136,200</td>\n",
       "      <td>$40,400</td>\n",
       "      <td>$3,689,300</td>\n",
       "      <td>$464,800</td>\n",
       "    </tr>\n",
       "    <tr>\n",
       "      <th>2</th>\n",
       "      <td>3</td>\n",
       "      <td>Berkshire Hathaway</td>\n",
       "      <td>United States</td>\n",
       "      <td>$245,500</td>\n",
       "      <td>$42,500</td>\n",
       "      <td>$873,700</td>\n",
       "      <td>$624,400</td>\n",
       "    </tr>\n",
       "    <tr>\n",
       "      <th>3</th>\n",
       "      <td>4</td>\n",
       "      <td>China Construction Bank</td>\n",
       "      <td>China</td>\n",
       "      <td>$173,500</td>\n",
       "      <td>$39,300</td>\n",
       "      <td>$4,301,700</td>\n",
       "      <td>$210,400</td>\n",
       "    </tr>\n",
       "    <tr>\n",
       "      <th>4</th>\n",
       "      <td>5</td>\n",
       "      <td>Saudi Arabian Oil Company (Saudi Aramco)</td>\n",
       "      <td>Saudi Arabia</td>\n",
       "      <td>$229,700</td>\n",
       "      <td>$49,300</td>\n",
       "      <td>$510,300</td>\n",
       "      <td>$1,897,200</td>\n",
       "    </tr>\n",
       "    <tr>\n",
       "      <th>5</th>\n",
       "      <td>6</td>\n",
       "      <td>Apple</td>\n",
       "      <td>United States</td>\n",
       "      <td>$294,000</td>\n",
       "      <td>$63,900</td>\n",
       "      <td>$354,100</td>\n",
       "      <td>$2,252,300</td>\n",
       "    </tr>\n",
       "    <tr>\n",
       "      <th>6</th>\n",
       "      <td>7</td>\n",
       "      <td>Bank of America</td>\n",
       "      <td>United States</td>\n",
       "      <td>$98,800</td>\n",
       "      <td>$17,900</td>\n",
       "      <td>$2,832,200</td>\n",
       "      <td>$336,300</td>\n",
       "    </tr>\n",
       "    <tr>\n",
       "      <th>7</th>\n",
       "      <td>8</td>\n",
       "      <td>Ping An Insurance Group</td>\n",
       "      <td>China</td>\n",
       "      <td>$169,100</td>\n",
       "      <td>$20,800</td>\n",
       "      <td>$1,453,800</td>\n",
       "      <td>$211,200</td>\n",
       "    </tr>\n",
       "    <tr>\n",
       "      <th>8</th>\n",
       "      <td>9</td>\n",
       "      <td>Agricultural Bank of China</td>\n",
       "      <td>China</td>\n",
       "      <td>$153,900</td>\n",
       "      <td>$31,300</td>\n",
       "      <td>$4,159,900</td>\n",
       "      <td>$140,100</td>\n",
       "    </tr>\n",
       "    <tr>\n",
       "      <th>9</th>\n",
       "      <td>10</td>\n",
       "      <td>Amazon</td>\n",
       "      <td>United States</td>\n",
       "      <td>$386,100</td>\n",
       "      <td>$21,300</td>\n",
       "      <td>$321,200</td>\n",
       "      <td>$1,711,800</td>\n",
       "    </tr>\n",
       "  </tbody>\n",
       "</table>\n",
       "</div>"
      ],
      "text/plain": [
       "   Rank                                   Company        Country      Sales  \\\n",
       "0     1                                      ICBC          China  $190,500    \n",
       "1     2                            JPMorgan Chase  United States  $136,200    \n",
       "2     3                        Berkshire Hathaway  United States  $245,500    \n",
       "3     4                   China Construction Bank          China  $173,500    \n",
       "4     5  Saudi Arabian Oil Company (Saudi Aramco)   Saudi Arabia  $229,700    \n",
       "5     6                                     Apple  United States  $294,000    \n",
       "6     7                           Bank of America  United States   $98,800    \n",
       "7     8                   Ping An Insurance Group          China  $169,100    \n",
       "8     9                Agricultural Bank of China          China  $153,900    \n",
       "9    10                                    Amazon  United States  $386,100    \n",
       "\n",
       "    Profits      Assets Market_value  \n",
       "0  $45,800   $4,914,700     $249,500  \n",
       "1  $40,400   $3,689,300     $464,800  \n",
       "2  $42,500     $873,700     $624,400  \n",
       "3  $39,300   $4,301,700     $210,400  \n",
       "4  $49,300     $510,300   $1,897,200  \n",
       "5  $63,900     $354,100   $2,252,300  \n",
       "6  $17,900   $2,832,200     $336,300  \n",
       "7  $20,800   $1,453,800     $211,200  \n",
       "8  $31,300   $4,159,900     $140,100  \n",
       "9  $21,300     $321,200   $1,711,800  "
      ]
     },
     "execution_count": 8,
     "metadata": {},
     "output_type": "execute_result"
    }
   ],
   "source": [
    "forbes21.head(n=10) # Top 10 de las empresas de Forbes 21\n",
    "#forbes21.tail(n=9) #Las últimas 5"
   ]
  },
  {
   "cell_type": "code",
   "execution_count": 9,
   "metadata": {},
   "outputs": [
    {
     "name": "stdout",
     "output_type": "stream",
     "text": [
      "<class 'pandas.core.frame.DataFrame'>\n",
      "RangeIndex: 2000 entries, 0 to 1999\n",
      "Data columns (total 7 columns):\n",
      " #   Column        Non-Null Count  Dtype \n",
      "---  ------        --------------  ----- \n",
      " 0   Rank          2000 non-null   int64 \n",
      " 1   Company       2000 non-null   object\n",
      " 2   Country       2000 non-null   object\n",
      " 3   Sales         2000 non-null   object\n",
      " 4   Profits       2000 non-null   object\n",
      " 5   Assets        2000 non-null   object\n",
      " 6   Market_value  2000 non-null   object\n",
      "dtypes: int64(1), object(6)\n",
      "memory usage: 109.5+ KB\n"
     ]
    }
   ],
   "source": [
    "forbes21.info()"
   ]
  },
  {
   "cell_type": "code",
   "execution_count": 31,
   "metadata": {},
   "outputs": [
    {
     "data": {
      "text/plain": [
       "Rank            False\n",
       "Company         False\n",
       "Country         False\n",
       "Sales           False\n",
       "Profits         False\n",
       "Assets          False\n",
       "Market_value    False\n",
       "dtype: bool"
      ]
     },
     "execution_count": 31,
     "metadata": {},
     "output_type": "execute_result"
    }
   ],
   "source": [
    "forbes21.isna().any()"
   ]
  },
  {
   "cell_type": "code",
   "execution_count": 10,
   "metadata": {},
   "outputs": [
    {
     "data": {
      "text/html": [
       "<div>\n",
       "<style scoped>\n",
       "    .dataframe tbody tr th:only-of-type {\n",
       "        vertical-align: middle;\n",
       "    }\n",
       "\n",
       "    .dataframe tbody tr th {\n",
       "        vertical-align: top;\n",
       "    }\n",
       "\n",
       "    .dataframe thead th {\n",
       "        text-align: right;\n",
       "    }\n",
       "</style>\n",
       "<table border=\"1\" class=\"dataframe\">\n",
       "  <thead>\n",
       "    <tr style=\"text-align: right;\">\n",
       "      <th></th>\n",
       "      <th>Rank</th>\n",
       "      <th>Company</th>\n",
       "      <th>Country</th>\n",
       "      <th>Sales</th>\n",
       "      <th>Profits</th>\n",
       "      <th>Assets</th>\n",
       "      <th>Market_value</th>\n",
       "    </tr>\n",
       "  </thead>\n",
       "  <tbody>\n",
       "    <tr>\n",
       "      <th>0</th>\n",
       "      <td>1</td>\n",
       "      <td>ICBC</td>\n",
       "      <td>China</td>\n",
       "      <td>$190500</td>\n",
       "      <td>$45800</td>\n",
       "      <td>$4914700</td>\n",
       "      <td>$249500</td>\n",
       "    </tr>\n",
       "    <tr>\n",
       "      <th>1</th>\n",
       "      <td>2</td>\n",
       "      <td>JPMorgan Chase</td>\n",
       "      <td>United States</td>\n",
       "      <td>$136200</td>\n",
       "      <td>$40400</td>\n",
       "      <td>$3689300</td>\n",
       "      <td>$464800</td>\n",
       "    </tr>\n",
       "    <tr>\n",
       "      <th>2</th>\n",
       "      <td>3</td>\n",
       "      <td>Berkshire Hathaway</td>\n",
       "      <td>United States</td>\n",
       "      <td>$245500</td>\n",
       "      <td>$42500</td>\n",
       "      <td>$873700</td>\n",
       "      <td>$624400</td>\n",
       "    </tr>\n",
       "    <tr>\n",
       "      <th>3</th>\n",
       "      <td>4</td>\n",
       "      <td>China Construction Bank</td>\n",
       "      <td>China</td>\n",
       "      <td>$173500</td>\n",
       "      <td>$39300</td>\n",
       "      <td>$4301700</td>\n",
       "      <td>$210400</td>\n",
       "    </tr>\n",
       "    <tr>\n",
       "      <th>4</th>\n",
       "      <td>5</td>\n",
       "      <td>Saudi Arabian Oil Company (Saudi Aramco)</td>\n",
       "      <td>Saudi Arabia</td>\n",
       "      <td>$229700</td>\n",
       "      <td>$49300</td>\n",
       "      <td>$510300</td>\n",
       "      <td>$1897200</td>\n",
       "    </tr>\n",
       "  </tbody>\n",
       "</table>\n",
       "</div>"
      ],
      "text/plain": [
       "   Rank                                   Company        Country     Sales  \\\n",
       "0     1                                      ICBC          China  $190500    \n",
       "1     2                            JPMorgan Chase  United States  $136200    \n",
       "2     3                        Berkshire Hathaway  United States  $245500    \n",
       "3     4                   China Construction Bank          China  $173500    \n",
       "4     5  Saudi Arabian Oil Company (Saudi Aramco)   Saudi Arabia  $229700    \n",
       "\n",
       "   Profits    Assets Market_value  \n",
       "0  $45800   $4914700      $249500  \n",
       "1  $40400   $3689300      $464800  \n",
       "2  $42500    $873700      $624400  \n",
       "3  $39300   $4301700      $210400  \n",
       "4  $49300    $510300     $1897200  "
      ]
     },
     "execution_count": 10,
     "metadata": {},
     "output_type": "execute_result"
    }
   ],
   "source": [
    "# Modifiquemos el formato de los datos (Coerción de datos)\n",
    "\n",
    "forbes21 = forbes21.replace(',','',regex= True) # regex: expresión regular\n",
    "forbes21.head()"
   ]
  },
  {
   "cell_type": "code",
   "execution_count": 14,
   "metadata": {},
   "outputs": [
    {
     "data": {
      "text/html": [
       "<div>\n",
       "<style scoped>\n",
       "    .dataframe tbody tr th:only-of-type {\n",
       "        vertical-align: middle;\n",
       "    }\n",
       "\n",
       "    .dataframe tbody tr th {\n",
       "        vertical-align: top;\n",
       "    }\n",
       "\n",
       "    .dataframe thead th {\n",
       "        text-align: right;\n",
       "    }\n",
       "</style>\n",
       "<table border=\"1\" class=\"dataframe\">\n",
       "  <thead>\n",
       "    <tr style=\"text-align: right;\">\n",
       "      <th></th>\n",
       "      <th>Rank</th>\n",
       "      <th>Company</th>\n",
       "      <th>Country</th>\n",
       "      <th>Sales</th>\n",
       "      <th>Profits</th>\n",
       "      <th>Assets</th>\n",
       "      <th>Market_value</th>\n",
       "    </tr>\n",
       "  </thead>\n",
       "  <tbody>\n",
       "    <tr>\n",
       "      <th>0</th>\n",
       "      <td>1</td>\n",
       "      <td>ICBC</td>\n",
       "      <td>China</td>\n",
       "      <td>190500</td>\n",
       "      <td>45800</td>\n",
       "      <td>4914700</td>\n",
       "      <td>249500</td>\n",
       "    </tr>\n",
       "    <tr>\n",
       "      <th>1</th>\n",
       "      <td>2</td>\n",
       "      <td>JPMorgan Chase</td>\n",
       "      <td>United States</td>\n",
       "      <td>136200</td>\n",
       "      <td>40400</td>\n",
       "      <td>3689300</td>\n",
       "      <td>464800</td>\n",
       "    </tr>\n",
       "    <tr>\n",
       "      <th>2</th>\n",
       "      <td>3</td>\n",
       "      <td>Berkshire Hathaway</td>\n",
       "      <td>United States</td>\n",
       "      <td>245500</td>\n",
       "      <td>42500</td>\n",
       "      <td>873700</td>\n",
       "      <td>624400</td>\n",
       "    </tr>\n",
       "    <tr>\n",
       "      <th>3</th>\n",
       "      <td>4</td>\n",
       "      <td>China Construction Bank</td>\n",
       "      <td>China</td>\n",
       "      <td>173500</td>\n",
       "      <td>39300</td>\n",
       "      <td>4301700</td>\n",
       "      <td>210400</td>\n",
       "    </tr>\n",
       "    <tr>\n",
       "      <th>4</th>\n",
       "      <td>5</td>\n",
       "      <td>Saudi Arabian Oil Company (Saudi Aramco)</td>\n",
       "      <td>Saudi Arabia</td>\n",
       "      <td>229700</td>\n",
       "      <td>49300</td>\n",
       "      <td>510300</td>\n",
       "      <td>1897200</td>\n",
       "    </tr>\n",
       "  </tbody>\n",
       "</table>\n",
       "</div>"
      ],
      "text/plain": [
       "   Rank                                   Company        Country    Sales  \\\n",
       "0     1                                      ICBC          China  190500    \n",
       "1     2                            JPMorgan Chase  United States  136200    \n",
       "2     3                        Berkshire Hathaway  United States  245500    \n",
       "3     4                   China Construction Bank          China  173500    \n",
       "4     5  Saudi Arabian Oil Company (Saudi Aramco)   Saudi Arabia  229700    \n",
       "\n",
       "  Profits   Assets Market_value  \n",
       "0  45800   4914700       249500  \n",
       "1  40400   3689300       464800  \n",
       "2  42500    873700       624400  \n",
       "3  39300   4301700       210400  \n",
       "4  49300    510300      1897200  "
      ]
     },
     "execution_count": 14,
     "metadata": {},
     "output_type": "execute_result"
    }
   ],
   "source": [
    "forbes21 = forbes21.replace('\\$','',regex=True) #La expresión regular de $ es con \\$\n",
    "forbes21.head()"
   ]
  },
  {
   "cell_type": "code",
   "execution_count": 15,
   "metadata": {},
   "outputs": [
    {
     "data": {
      "text/html": [
       "<div>\n",
       "<style scoped>\n",
       "    .dataframe tbody tr th:only-of-type {\n",
       "        vertical-align: middle;\n",
       "    }\n",
       "\n",
       "    .dataframe tbody tr th {\n",
       "        vertical-align: top;\n",
       "    }\n",
       "\n",
       "    .dataframe thead th {\n",
       "        text-align: right;\n",
       "    }\n",
       "</style>\n",
       "<table border=\"1\" class=\"dataframe\">\n",
       "  <thead>\n",
       "    <tr style=\"text-align: right;\">\n",
       "      <th></th>\n",
       "      <th>Rank</th>\n",
       "      <th>Company</th>\n",
       "      <th>Country</th>\n",
       "      <th>Sales</th>\n",
       "      <th>Profits</th>\n",
       "      <th>Assets</th>\n",
       "      <th>Market_value</th>\n",
       "    </tr>\n",
       "  </thead>\n",
       "  <tbody>\n",
       "    <tr>\n",
       "      <th>1900</th>\n",
       "      <td>1901</td>\n",
       "      <td>Taiheiyo Cement</td>\n",
       "      <td>Japan</td>\n",
       "      <td>8200</td>\n",
       "      <td>429</td>\n",
       "      <td>10300</td>\n",
       "      <td>3100</td>\n",
       "    </tr>\n",
       "    <tr>\n",
       "      <th>1901</th>\n",
       "      <td>1902</td>\n",
       "      <td>Tenneco</td>\n",
       "      <td>United States</td>\n",
       "      <td>15400</td>\n",
       "      <td>-1500</td>\n",
       "      <td>11900</td>\n",
       "      <td>939</td>\n",
       "    </tr>\n",
       "    <tr>\n",
       "      <th>1902</th>\n",
       "      <td>1903</td>\n",
       "      <td>Harel Insurance Investments &amp; Financial Services</td>\n",
       "      <td>Israel</td>\n",
       "      <td>5400</td>\n",
       "      <td>211</td>\n",
       "      <td>35900</td>\n",
       "      <td>2300</td>\n",
       "    </tr>\n",
       "    <tr>\n",
       "      <th>1903</th>\n",
       "      <td>1904</td>\n",
       "      <td>Aareal Bank</td>\n",
       "      <td>Germany</td>\n",
       "      <td>1200</td>\n",
       "      <td>-103</td>\n",
       "      <td>55600</td>\n",
       "      <td>1700</td>\n",
       "    </tr>\n",
       "    <tr>\n",
       "      <th>1904</th>\n",
       "      <td>1905</td>\n",
       "      <td>Intco Medical Technology</td>\n",
       "      <td>China</td>\n",
       "      <td>2000</td>\n",
       "      <td>1000</td>\n",
       "      <td>2000</td>\n",
       "      <td>7900</td>\n",
       "    </tr>\n",
       "    <tr>\n",
       "      <th>...</th>\n",
       "      <td>...</td>\n",
       "      <td>...</td>\n",
       "      <td>...</td>\n",
       "      <td>...</td>\n",
       "      <td>...</td>\n",
       "      <td>...</td>\n",
       "      <td>...</td>\n",
       "    </tr>\n",
       "    <tr>\n",
       "      <th>1995</th>\n",
       "      <td>1996</td>\n",
       "      <td>JTEKT</td>\n",
       "      <td>Japan</td>\n",
       "      <td>13100</td>\n",
       "      <td>-35</td>\n",
       "      <td>12000</td>\n",
       "      <td>3500</td>\n",
       "    </tr>\n",
       "    <tr>\n",
       "      <th>1996</th>\n",
       "      <td>1997</td>\n",
       "      <td>Insurance Australia Group</td>\n",
       "      <td>Australia</td>\n",
       "      <td>5400</td>\n",
       "      <td>-212</td>\n",
       "      <td>25000</td>\n",
       "      <td>9300</td>\n",
       "    </tr>\n",
       "    <tr>\n",
       "      <th>1997</th>\n",
       "      <td>1998</td>\n",
       "      <td>Sumec Corporation</td>\n",
       "      <td>China</td>\n",
       "      <td>13000</td>\n",
       "      <td>79</td>\n",
       "      <td>7100</td>\n",
       "      <td>1300</td>\n",
       "    </tr>\n",
       "    <tr>\n",
       "      <th>1998</th>\n",
       "      <td>1999</td>\n",
       "      <td>Gold Fields</td>\n",
       "      <td>South Africa</td>\n",
       "      <td>3900</td>\n",
       "      <td>718</td>\n",
       "      <td>7500</td>\n",
       "      <td>8900</td>\n",
       "    </tr>\n",
       "    <tr>\n",
       "      <th>1999</th>\n",
       "      <td>2000</td>\n",
       "      <td>Paycom</td>\n",
       "      <td>United States</td>\n",
       "      <td>841</td>\n",
       "      <td>143</td>\n",
       "      <td>2600</td>\n",
       "      <td>24000</td>\n",
       "    </tr>\n",
       "  </tbody>\n",
       "</table>\n",
       "<p>100 rows × 7 columns</p>\n",
       "</div>"
      ],
      "text/plain": [
       "      Rank                                           Company        Country  \\\n",
       "1900  1901                                   Taiheiyo Cement          Japan   \n",
       "1901  1902                                           Tenneco  United States   \n",
       "1902  1903  Harel Insurance Investments & Financial Services         Israel   \n",
       "1903  1904                                       Aareal Bank        Germany   \n",
       "1904  1905                          Intco Medical Technology          China   \n",
       "...    ...                                               ...            ...   \n",
       "1995  1996                                             JTEKT          Japan   \n",
       "1996  1997                         Insurance Australia Group      Australia   \n",
       "1997  1998                                 Sumec Corporation          China   \n",
       "1998  1999                                       Gold Fields   South Africa   \n",
       "1999  2000                                            Paycom  United States   \n",
       "\n",
       "       Sales Profits Assets Market_value  \n",
       "1900   8200     429   10300         3100  \n",
       "1901  15400   -1500   11900          939  \n",
       "1902   5400     211   35900         2300  \n",
       "1903   1200    -103   55600         1700  \n",
       "1904   2000    1000    2000         7900  \n",
       "...      ...     ...    ...          ...  \n",
       "1995  13100     -35   12000         3500  \n",
       "1996   5400    -212   25000         9300  \n",
       "1997  13000      79    7100         1300  \n",
       "1998   3900     718    7500         8900  \n",
       "1999    841     143    2600        24000  \n",
       "\n",
       "[100 rows x 7 columns]"
      ]
     },
     "execution_count": 15,
     "metadata": {},
     "output_type": "execute_result"
    }
   ],
   "source": [
    "# Acceder a filas y columnas\n",
    "# Indexing and slicing\n",
    "\n",
    "#Cómo acceder indicando filas con indexación\n",
    "forbes21[:] #Coja todas las filas\n",
    "forbes21[999:1010]\n",
    "forbes21[1900:]"
   ]
  },
  {
   "cell_type": "code",
   "execution_count": 16,
   "metadata": {},
   "outputs": [
    {
     "data": {
      "text/html": [
       "<div>\n",
       "<style scoped>\n",
       "    .dataframe tbody tr th:only-of-type {\n",
       "        vertical-align: middle;\n",
       "    }\n",
       "\n",
       "    .dataframe tbody tr th {\n",
       "        vertical-align: top;\n",
       "    }\n",
       "\n",
       "    .dataframe thead th {\n",
       "        text-align: right;\n",
       "    }\n",
       "</style>\n",
       "<table border=\"1\" class=\"dataframe\">\n",
       "  <thead>\n",
       "    <tr style=\"text-align: right;\">\n",
       "      <th></th>\n",
       "      <th>Company</th>\n",
       "      <th>Country</th>\n",
       "      <th>Sales</th>\n",
       "    </tr>\n",
       "  </thead>\n",
       "  <tbody>\n",
       "    <tr>\n",
       "      <th>100</th>\n",
       "      <td>JD.com</td>\n",
       "      <td>China</td>\n",
       "      <td>108300</td>\n",
       "    </tr>\n",
       "    <tr>\n",
       "      <th>101</th>\n",
       "      <td>Coca-Cola</td>\n",
       "      <td>United States</td>\n",
       "      <td>33000</td>\n",
       "    </tr>\n",
       "    <tr>\n",
       "      <th>102</th>\n",
       "      <td>Iberdrola</td>\n",
       "      <td>Spain</td>\n",
       "      <td>37800</td>\n",
       "    </tr>\n",
       "    <tr>\n",
       "      <th>103</th>\n",
       "      <td>CITIC</td>\n",
       "      <td>Hong Kong</td>\n",
       "      <td>71300</td>\n",
       "    </tr>\n",
       "    <tr>\n",
       "      <th>104</th>\n",
       "      <td>Prudential</td>\n",
       "      <td>United Kingdom</td>\n",
       "      <td>54800</td>\n",
       "    </tr>\n",
       "    <tr>\n",
       "      <th>105</th>\n",
       "      <td>KDDI</td>\n",
       "      <td>Japan</td>\n",
       "      <td>49300</td>\n",
       "    </tr>\n",
       "    <tr>\n",
       "      <th>106</th>\n",
       "      <td>Bank of Montreal</td>\n",
       "      <td>Canada</td>\n",
       "      <td>24500</td>\n",
       "    </tr>\n",
       "    <tr>\n",
       "      <th>107</th>\n",
       "      <td>Costco Wholesale</td>\n",
       "      <td>United States</td>\n",
       "      <td>178600</td>\n",
       "    </tr>\n",
       "    <tr>\n",
       "      <th>108</th>\n",
       "      <td>Itaú Unibanco Holding</td>\n",
       "      <td>Brazil</td>\n",
       "      <td>37200</td>\n",
       "    </tr>\n",
       "    <tr>\n",
       "      <th>109</th>\n",
       "      <td>State Bank of India</td>\n",
       "      <td>India</td>\n",
       "      <td>50600</td>\n",
       "    </tr>\n",
       "    <tr>\n",
       "      <th>110</th>\n",
       "      <td>Chubb</td>\n",
       "      <td>Switzerland</td>\n",
       "      <td>36100</td>\n",
       "    </tr>\n",
       "  </tbody>\n",
       "</table>\n",
       "</div>"
      ],
      "text/plain": [
       "                   Company         Country    Sales\n",
       "100                 JD.com           China  108300 \n",
       "101              Coca-Cola   United States   33000 \n",
       "102              Iberdrola           Spain   37800 \n",
       "103                  CITIC       Hong Kong   71300 \n",
       "104             Prudential  United Kingdom   54800 \n",
       "105                   KDDI           Japan   49300 \n",
       "106       Bank of Montreal          Canada   24500 \n",
       "107       Costco Wholesale   United States  178600 \n",
       "108  Itaú Unibanco Holding          Brazil   37200 \n",
       "109    State Bank of India           India   50600 \n",
       "110                  Chubb     Switzerland   36100 "
      ]
     },
     "execution_count": 16,
     "metadata": {},
     "output_type": "execute_result"
    }
   ],
   "source": [
    "#Acceder a columnas\n",
    "\n",
    "forbes21['Sales']\n",
    "forbes21[['Company','Country','Sales']][100:111]"
   ]
  },
  {
   "cell_type": "code",
   "execution_count": 17,
   "metadata": {},
   "outputs": [
    {
     "data": {
      "text/html": [
       "<div>\n",
       "<style scoped>\n",
       "    .dataframe tbody tr th:only-of-type {\n",
       "        vertical-align: middle;\n",
       "    }\n",
       "\n",
       "    .dataframe tbody tr th {\n",
       "        vertical-align: top;\n",
       "    }\n",
       "\n",
       "    .dataframe thead th {\n",
       "        text-align: right;\n",
       "    }\n",
       "</style>\n",
       "<table border=\"1\" class=\"dataframe\">\n",
       "  <thead>\n",
       "    <tr style=\"text-align: right;\">\n",
       "      <th></th>\n",
       "      <th>Company</th>\n",
       "      <th>Country</th>\n",
       "      <th>Sales</th>\n",
       "    </tr>\n",
       "  </thead>\n",
       "  <tbody>\n",
       "    <tr>\n",
       "      <th>100</th>\n",
       "      <td>JD.com</td>\n",
       "      <td>China</td>\n",
       "      <td>108300</td>\n",
       "    </tr>\n",
       "    <tr>\n",
       "      <th>101</th>\n",
       "      <td>Coca-Cola</td>\n",
       "      <td>United States</td>\n",
       "      <td>33000</td>\n",
       "    </tr>\n",
       "    <tr>\n",
       "      <th>102</th>\n",
       "      <td>Iberdrola</td>\n",
       "      <td>Spain</td>\n",
       "      <td>37800</td>\n",
       "    </tr>\n",
       "    <tr>\n",
       "      <th>103</th>\n",
       "      <td>CITIC</td>\n",
       "      <td>Hong Kong</td>\n",
       "      <td>71300</td>\n",
       "    </tr>\n",
       "    <tr>\n",
       "      <th>104</th>\n",
       "      <td>Prudential</td>\n",
       "      <td>United Kingdom</td>\n",
       "      <td>54800</td>\n",
       "    </tr>\n",
       "    <tr>\n",
       "      <th>105</th>\n",
       "      <td>KDDI</td>\n",
       "      <td>Japan</td>\n",
       "      <td>49300</td>\n",
       "    </tr>\n",
       "    <tr>\n",
       "      <th>106</th>\n",
       "      <td>Bank of Montreal</td>\n",
       "      <td>Canada</td>\n",
       "      <td>24500</td>\n",
       "    </tr>\n",
       "    <tr>\n",
       "      <th>107</th>\n",
       "      <td>Costco Wholesale</td>\n",
       "      <td>United States</td>\n",
       "      <td>178600</td>\n",
       "    </tr>\n",
       "    <tr>\n",
       "      <th>108</th>\n",
       "      <td>Itaú Unibanco Holding</td>\n",
       "      <td>Brazil</td>\n",
       "      <td>37200</td>\n",
       "    </tr>\n",
       "    <tr>\n",
       "      <th>109</th>\n",
       "      <td>State Bank of India</td>\n",
       "      <td>India</td>\n",
       "      <td>50600</td>\n",
       "    </tr>\n",
       "    <tr>\n",
       "      <th>110</th>\n",
       "      <td>Chubb</td>\n",
       "      <td>Switzerland</td>\n",
       "      <td>36100</td>\n",
       "    </tr>\n",
       "  </tbody>\n",
       "</table>\n",
       "</div>"
      ],
      "text/plain": [
       "                   Company         Country    Sales\n",
       "100                 JD.com           China  108300 \n",
       "101              Coca-Cola   United States   33000 \n",
       "102              Iberdrola           Spain   37800 \n",
       "103                  CITIC       Hong Kong   71300 \n",
       "104             Prudential  United Kingdom   54800 \n",
       "105                   KDDI           Japan   49300 \n",
       "106       Bank of Montreal          Canada   24500 \n",
       "107       Costco Wholesale   United States  178600 \n",
       "108  Itaú Unibanco Holding          Brazil   37200 \n",
       "109    State Bank of India           India   50600 \n",
       "110                  Chubb     Switzerland   36100 "
      ]
     },
     "execution_count": 17,
     "metadata": {},
     "output_type": "execute_result"
    }
   ],
   "source": [
    "# Acceder a filas y columnas\n",
    "\n",
    "forbes21[['Company','Country','Sales']][100:111]"
   ]
  },
  {
   "cell_type": "code",
   "execution_count": 18,
   "metadata": {},
   "outputs": [
    {
     "data": {
      "text/html": [
       "<div>\n",
       "<style scoped>\n",
       "    .dataframe tbody tr th:only-of-type {\n",
       "        vertical-align: middle;\n",
       "    }\n",
       "\n",
       "    .dataframe tbody tr th {\n",
       "        vertical-align: top;\n",
       "    }\n",
       "\n",
       "    .dataframe thead th {\n",
       "        text-align: right;\n",
       "    }\n",
       "</style>\n",
       "<table border=\"1\" class=\"dataframe\">\n",
       "  <thead>\n",
       "    <tr style=\"text-align: right;\">\n",
       "      <th></th>\n",
       "      <th>Company</th>\n",
       "      <th>Sales</th>\n",
       "    </tr>\n",
       "  </thead>\n",
       "  <tbody>\n",
       "    <tr>\n",
       "      <th>10</th>\n",
       "      <td>Samsung Electronics</td>\n",
       "      <td>200700</td>\n",
       "    </tr>\n",
       "    <tr>\n",
       "      <th>11</th>\n",
       "      <td>Toyota Motor</td>\n",
       "      <td>249400</td>\n",
       "    </tr>\n",
       "    <tr>\n",
       "      <th>12</th>\n",
       "      <td>Alphabet</td>\n",
       "      <td>182400</td>\n",
       "    </tr>\n",
       "    <tr>\n",
       "      <th>13</th>\n",
       "      <td>Bank of China</td>\n",
       "      <td>134000</td>\n",
       "    </tr>\n",
       "    <tr>\n",
       "      <th>14</th>\n",
       "      <td>Microsoft</td>\n",
       "      <td>153300</td>\n",
       "    </tr>\n",
       "    <tr>\n",
       "      <th>15</th>\n",
       "      <td>Citigroup</td>\n",
       "      <td>84400</td>\n",
       "    </tr>\n",
       "    <tr>\n",
       "      <th>16</th>\n",
       "      <td>Volkswagen Group</td>\n",
       "      <td>254100</td>\n",
       "    </tr>\n",
       "    <tr>\n",
       "      <th>17</th>\n",
       "      <td>Walmart</td>\n",
       "      <td>559200</td>\n",
       "    </tr>\n",
       "    <tr>\n",
       "      <th>18</th>\n",
       "      <td>Wells Fargo</td>\n",
       "      <td>85900</td>\n",
       "    </tr>\n",
       "    <tr>\n",
       "      <th>19</th>\n",
       "      <td>Verizon Communications</td>\n",
       "      <td>128300</td>\n",
       "    </tr>\n",
       "    <tr>\n",
       "      <th>20</th>\n",
       "      <td>UnitedHealth Group</td>\n",
       "      <td>262900</td>\n",
       "    </tr>\n",
       "  </tbody>\n",
       "</table>\n",
       "</div>"
      ],
      "text/plain": [
       "                   Company    Sales\n",
       "10     Samsung Electronics  200700 \n",
       "11            Toyota Motor  249400 \n",
       "12                Alphabet  182400 \n",
       "13           Bank of China  134000 \n",
       "14               Microsoft  153300 \n",
       "15               Citigroup   84400 \n",
       "16        Volkswagen Group  254100 \n",
       "17                 Walmart  559200 \n",
       "18             Wells Fargo   85900 \n",
       "19  Verizon Communications  128300 \n",
       "20      UnitedHealth Group  262900 "
      ]
     },
     "execution_count": 18,
     "metadata": {},
     "output_type": "execute_result"
    }
   ],
   "source": [
    "# Método loc de pandas: df.loc[filas,columnas(labels)]\n",
    "\n",
    "forbes21.loc[:] #Me muestra todo el df\n",
    "forbes21.loc[10:20,['Company','Sales']]"
   ]
  },
  {
   "cell_type": "code",
   "execution_count": 19,
   "metadata": {},
   "outputs": [
    {
     "data": {
      "text/html": [
       "<div>\n",
       "<style scoped>\n",
       "    .dataframe tbody tr th:only-of-type {\n",
       "        vertical-align: middle;\n",
       "    }\n",
       "\n",
       "    .dataframe tbody tr th {\n",
       "        vertical-align: top;\n",
       "    }\n",
       "\n",
       "    .dataframe thead th {\n",
       "        text-align: right;\n",
       "    }\n",
       "</style>\n",
       "<table border=\"1\" class=\"dataframe\">\n",
       "  <thead>\n",
       "    <tr style=\"text-align: right;\">\n",
       "      <th></th>\n",
       "      <th>Country</th>\n",
       "      <th>Sales</th>\n",
       "      <th>Profits</th>\n",
       "      <th>Assets</th>\n",
       "      <th>Market_value</th>\n",
       "    </tr>\n",
       "  </thead>\n",
       "  <tbody>\n",
       "    <tr>\n",
       "      <th>0</th>\n",
       "      <td>China</td>\n",
       "      <td>190500</td>\n",
       "      <td>45800</td>\n",
       "      <td>4914700</td>\n",
       "      <td>249500</td>\n",
       "    </tr>\n",
       "    <tr>\n",
       "      <th>1</th>\n",
       "      <td>United States</td>\n",
       "      <td>136200</td>\n",
       "      <td>40400</td>\n",
       "      <td>3689300</td>\n",
       "      <td>464800</td>\n",
       "    </tr>\n",
       "  </tbody>\n",
       "</table>\n",
       "</div>"
      ],
      "text/plain": [
       "         Country    Sales Profits   Assets Market_value\n",
       "0          China  190500   45800   4914700       249500\n",
       "1  United States  136200   40400   3689300       464800"
      ]
     },
     "execution_count": 19,
     "metadata": {},
     "output_type": "execute_result"
    }
   ],
   "source": [
    "# Función iloc: df.iloc[filas,columnas] por indices o int\n",
    "forbes21.iloc[1,3] #fila 1, columna 3\n",
    "forbes21.iloc[:5,[2,4,6]]\n",
    "forbes21.iloc[:2,2:]"
   ]
  },
  {
   "cell_type": "code",
   "execution_count": 20,
   "metadata": {},
   "outputs": [
    {
     "ename": "ValueError",
     "evalue": "could not convert string to float: '-'",
     "output_type": "error",
     "traceback": [
      "\u001b[1;31m---------------------------------------------------------------------------\u001b[0m",
      "\u001b[1;31mValueError\u001b[0m                                Traceback (most recent call last)",
      "Cell \u001b[1;32mIn[20], line 3\u001b[0m\n\u001b[0;32m      1\u001b[0m \u001b[39m#Coercionar datos\u001b[39;00m\n\u001b[1;32m----> 3\u001b[0m forbes21\u001b[39m.\u001b[39;49miloc[:,\u001b[39m3\u001b[39;49m:]\u001b[39m.\u001b[39;49mastype(\u001b[39mfloat\u001b[39;49m) \u001b[39m# Coercionar los datos\u001b[39;00m\n",
      "File \u001b[1;32mc:\\Users\\USUARIO.DESKTOP-VVDFT1P\\AppData\\Local\\Programs\\Python\\Python311\\Lib\\site-packages\\pandas\\core\\generic.py:6324\u001b[0m, in \u001b[0;36mNDFrame.astype\u001b[1;34m(self, dtype, copy, errors)\u001b[0m\n\u001b[0;32m   6317\u001b[0m     results \u001b[39m=\u001b[39m [\n\u001b[0;32m   6318\u001b[0m         \u001b[39mself\u001b[39m\u001b[39m.\u001b[39miloc[:, i]\u001b[39m.\u001b[39mastype(dtype, copy\u001b[39m=\u001b[39mcopy)\n\u001b[0;32m   6319\u001b[0m         \u001b[39mfor\u001b[39;00m i \u001b[39min\u001b[39;00m \u001b[39mrange\u001b[39m(\u001b[39mlen\u001b[39m(\u001b[39mself\u001b[39m\u001b[39m.\u001b[39mcolumns))\n\u001b[0;32m   6320\u001b[0m     ]\n\u001b[0;32m   6322\u001b[0m \u001b[39melse\u001b[39;00m:\n\u001b[0;32m   6323\u001b[0m     \u001b[39m# else, only a single dtype is given\u001b[39;00m\n\u001b[1;32m-> 6324\u001b[0m     new_data \u001b[39m=\u001b[39m \u001b[39mself\u001b[39;49m\u001b[39m.\u001b[39;49m_mgr\u001b[39m.\u001b[39;49mastype(dtype\u001b[39m=\u001b[39;49mdtype, copy\u001b[39m=\u001b[39;49mcopy, errors\u001b[39m=\u001b[39;49merrors)\n\u001b[0;32m   6325\u001b[0m     \u001b[39mreturn\u001b[39;00m \u001b[39mself\u001b[39m\u001b[39m.\u001b[39m_constructor(new_data)\u001b[39m.\u001b[39m__finalize__(\u001b[39mself\u001b[39m, method\u001b[39m=\u001b[39m\u001b[39m\"\u001b[39m\u001b[39mastype\u001b[39m\u001b[39m\"\u001b[39m)\n\u001b[0;32m   6327\u001b[0m \u001b[39m# GH 33113: handle empty frame or series\u001b[39;00m\n",
      "File \u001b[1;32mc:\\Users\\USUARIO.DESKTOP-VVDFT1P\\AppData\\Local\\Programs\\Python\\Python311\\Lib\\site-packages\\pandas\\core\\internals\\managers.py:451\u001b[0m, in \u001b[0;36mBaseBlockManager.astype\u001b[1;34m(self, dtype, copy, errors)\u001b[0m\n\u001b[0;32m    448\u001b[0m \u001b[39melif\u001b[39;00m using_copy_on_write():\n\u001b[0;32m    449\u001b[0m     copy \u001b[39m=\u001b[39m \u001b[39mFalse\u001b[39;00m\n\u001b[1;32m--> 451\u001b[0m \u001b[39mreturn\u001b[39;00m \u001b[39mself\u001b[39;49m\u001b[39m.\u001b[39;49mapply(\n\u001b[0;32m    452\u001b[0m     \u001b[39m\"\u001b[39;49m\u001b[39mastype\u001b[39;49m\u001b[39m\"\u001b[39;49m,\n\u001b[0;32m    453\u001b[0m     dtype\u001b[39m=\u001b[39;49mdtype,\n\u001b[0;32m    454\u001b[0m     copy\u001b[39m=\u001b[39;49mcopy,\n\u001b[0;32m    455\u001b[0m     errors\u001b[39m=\u001b[39;49merrors,\n\u001b[0;32m    456\u001b[0m     using_cow\u001b[39m=\u001b[39;49musing_copy_on_write(),\n\u001b[0;32m    457\u001b[0m )\n",
      "File \u001b[1;32mc:\\Users\\USUARIO.DESKTOP-VVDFT1P\\AppData\\Local\\Programs\\Python\\Python311\\Lib\\site-packages\\pandas\\core\\internals\\managers.py:352\u001b[0m, in \u001b[0;36mBaseBlockManager.apply\u001b[1;34m(self, f, align_keys, **kwargs)\u001b[0m\n\u001b[0;32m    350\u001b[0m         applied \u001b[39m=\u001b[39m b\u001b[39m.\u001b[39mapply(f, \u001b[39m*\u001b[39m\u001b[39m*\u001b[39mkwargs)\n\u001b[0;32m    351\u001b[0m     \u001b[39melse\u001b[39;00m:\n\u001b[1;32m--> 352\u001b[0m         applied \u001b[39m=\u001b[39m \u001b[39mgetattr\u001b[39;49m(b, f)(\u001b[39m*\u001b[39;49m\u001b[39m*\u001b[39;49mkwargs)\n\u001b[0;32m    353\u001b[0m     result_blocks \u001b[39m=\u001b[39m extend_blocks(applied, result_blocks)\n\u001b[0;32m    355\u001b[0m out \u001b[39m=\u001b[39m \u001b[39mtype\u001b[39m(\u001b[39mself\u001b[39m)\u001b[39m.\u001b[39mfrom_blocks(result_blocks, \u001b[39mself\u001b[39m\u001b[39m.\u001b[39maxes)\n",
      "File \u001b[1;32mc:\\Users\\USUARIO.DESKTOP-VVDFT1P\\AppData\\Local\\Programs\\Python\\Python311\\Lib\\site-packages\\pandas\\core\\internals\\blocks.py:511\u001b[0m, in \u001b[0;36mBlock.astype\u001b[1;34m(self, dtype, copy, errors, using_cow)\u001b[0m\n\u001b[0;32m    491\u001b[0m \u001b[39m\u001b[39m\u001b[39m\"\"\"\u001b[39;00m\n\u001b[0;32m    492\u001b[0m \u001b[39mCoerce to the new dtype.\u001b[39;00m\n\u001b[0;32m    493\u001b[0m \n\u001b[1;32m   (...)\u001b[0m\n\u001b[0;32m    507\u001b[0m \u001b[39mBlock\u001b[39;00m\n\u001b[0;32m    508\u001b[0m \u001b[39m\"\"\"\u001b[39;00m\n\u001b[0;32m    509\u001b[0m values \u001b[39m=\u001b[39m \u001b[39mself\u001b[39m\u001b[39m.\u001b[39mvalues\n\u001b[1;32m--> 511\u001b[0m new_values \u001b[39m=\u001b[39m astype_array_safe(values, dtype, copy\u001b[39m=\u001b[39;49mcopy, errors\u001b[39m=\u001b[39;49merrors)\n\u001b[0;32m    513\u001b[0m new_values \u001b[39m=\u001b[39m maybe_coerce_values(new_values)\n\u001b[0;32m    515\u001b[0m refs \u001b[39m=\u001b[39m \u001b[39mNone\u001b[39;00m\n",
      "File \u001b[1;32mc:\\Users\\USUARIO.DESKTOP-VVDFT1P\\AppData\\Local\\Programs\\Python\\Python311\\Lib\\site-packages\\pandas\\core\\dtypes\\astype.py:242\u001b[0m, in \u001b[0;36mastype_array_safe\u001b[1;34m(values, dtype, copy, errors)\u001b[0m\n\u001b[0;32m    239\u001b[0m     dtype \u001b[39m=\u001b[39m dtype\u001b[39m.\u001b[39mnumpy_dtype\n\u001b[0;32m    241\u001b[0m \u001b[39mtry\u001b[39;00m:\n\u001b[1;32m--> 242\u001b[0m     new_values \u001b[39m=\u001b[39m astype_array(values, dtype, copy\u001b[39m=\u001b[39;49mcopy)\n\u001b[0;32m    243\u001b[0m \u001b[39mexcept\u001b[39;00m (\u001b[39mValueError\u001b[39;00m, \u001b[39mTypeError\u001b[39;00m):\n\u001b[0;32m    244\u001b[0m     \u001b[39m# e.g. _astype_nansafe can fail on object-dtype of strings\u001b[39;00m\n\u001b[0;32m    245\u001b[0m     \u001b[39m#  trying to convert to float\u001b[39;00m\n\u001b[0;32m    246\u001b[0m     \u001b[39mif\u001b[39;00m errors \u001b[39m==\u001b[39m \u001b[39m\"\u001b[39m\u001b[39mignore\u001b[39m\u001b[39m\"\u001b[39m:\n",
      "File \u001b[1;32mc:\\Users\\USUARIO.DESKTOP-VVDFT1P\\AppData\\Local\\Programs\\Python\\Python311\\Lib\\site-packages\\pandas\\core\\dtypes\\astype.py:187\u001b[0m, in \u001b[0;36mastype_array\u001b[1;34m(values, dtype, copy)\u001b[0m\n\u001b[0;32m    184\u001b[0m     values \u001b[39m=\u001b[39m values\u001b[39m.\u001b[39mastype(dtype, copy\u001b[39m=\u001b[39mcopy)\n\u001b[0;32m    186\u001b[0m \u001b[39melse\u001b[39;00m:\n\u001b[1;32m--> 187\u001b[0m     values \u001b[39m=\u001b[39m _astype_nansafe(values, dtype, copy\u001b[39m=\u001b[39;49mcopy)\n\u001b[0;32m    189\u001b[0m \u001b[39m# in pandas we don't store numpy str dtypes, so convert to object\u001b[39;00m\n\u001b[0;32m    190\u001b[0m \u001b[39mif\u001b[39;00m \u001b[39misinstance\u001b[39m(dtype, np\u001b[39m.\u001b[39mdtype) \u001b[39mand\u001b[39;00m \u001b[39missubclass\u001b[39m(values\u001b[39m.\u001b[39mdtype\u001b[39m.\u001b[39mtype, \u001b[39mstr\u001b[39m):\n",
      "File \u001b[1;32mc:\\Users\\USUARIO.DESKTOP-VVDFT1P\\AppData\\Local\\Programs\\Python\\Python311\\Lib\\site-packages\\pandas\\core\\dtypes\\astype.py:138\u001b[0m, in \u001b[0;36m_astype_nansafe\u001b[1;34m(arr, dtype, copy, skipna)\u001b[0m\n\u001b[0;32m    134\u001b[0m     \u001b[39mraise\u001b[39;00m \u001b[39mValueError\u001b[39;00m(msg)\n\u001b[0;32m    136\u001b[0m \u001b[39mif\u001b[39;00m copy \u001b[39mor\u001b[39;00m is_object_dtype(arr\u001b[39m.\u001b[39mdtype) \u001b[39mor\u001b[39;00m is_object_dtype(dtype):\n\u001b[0;32m    137\u001b[0m     \u001b[39m# Explicit copy, or required since NumPy can't view from / to object.\u001b[39;00m\n\u001b[1;32m--> 138\u001b[0m     \u001b[39mreturn\u001b[39;00m arr\u001b[39m.\u001b[39;49mastype(dtype, copy\u001b[39m=\u001b[39;49m\u001b[39mTrue\u001b[39;49;00m)\n\u001b[0;32m    140\u001b[0m \u001b[39mreturn\u001b[39;00m arr\u001b[39m.\u001b[39mastype(dtype, copy\u001b[39m=\u001b[39mcopy)\n",
      "\u001b[1;31mValueError\u001b[0m: could not convert string to float: '-'"
     ]
    }
   ],
   "source": [
    "#Coercionar datos\n",
    "\n",
    "forbes21.iloc[:,3:].astype(float) # ¿Cuál es el error?"
   ]
  },
  {
   "cell_type": "code",
   "execution_count": 27,
   "metadata": {},
   "outputs": [
    {
     "data": {
      "text/html": [
       "<div>\n",
       "<style scoped>\n",
       "    .dataframe tbody tr th:only-of-type {\n",
       "        vertical-align: middle;\n",
       "    }\n",
       "\n",
       "    .dataframe tbody tr th {\n",
       "        vertical-align: top;\n",
       "    }\n",
       "\n",
       "    .dataframe thead th {\n",
       "        text-align: right;\n",
       "    }\n",
       "</style>\n",
       "<table border=\"1\" class=\"dataframe\">\n",
       "  <thead>\n",
       "    <tr style=\"text-align: right;\">\n",
       "      <th></th>\n",
       "      <th>Rank</th>\n",
       "      <th>Company</th>\n",
       "      <th>Country</th>\n",
       "      <th>Sales</th>\n",
       "      <th>Profits</th>\n",
       "      <th>Assets</th>\n",
       "      <th>Market_value</th>\n",
       "    </tr>\n",
       "  </thead>\n",
       "  <tbody>\n",
       "    <tr>\n",
       "      <th>0</th>\n",
       "      <td>False</td>\n",
       "      <td>False</td>\n",
       "      <td>False</td>\n",
       "      <td>False</td>\n",
       "      <td>False</td>\n",
       "      <td>False</td>\n",
       "      <td>False</td>\n",
       "    </tr>\n",
       "    <tr>\n",
       "      <th>1</th>\n",
       "      <td>False</td>\n",
       "      <td>False</td>\n",
       "      <td>False</td>\n",
       "      <td>False</td>\n",
       "      <td>False</td>\n",
       "      <td>False</td>\n",
       "      <td>False</td>\n",
       "    </tr>\n",
       "    <tr>\n",
       "      <th>2</th>\n",
       "      <td>False</td>\n",
       "      <td>False</td>\n",
       "      <td>False</td>\n",
       "      <td>False</td>\n",
       "      <td>False</td>\n",
       "      <td>False</td>\n",
       "      <td>False</td>\n",
       "    </tr>\n",
       "    <tr>\n",
       "      <th>3</th>\n",
       "      <td>False</td>\n",
       "      <td>False</td>\n",
       "      <td>False</td>\n",
       "      <td>False</td>\n",
       "      <td>False</td>\n",
       "      <td>False</td>\n",
       "      <td>False</td>\n",
       "    </tr>\n",
       "    <tr>\n",
       "      <th>4</th>\n",
       "      <td>False</td>\n",
       "      <td>False</td>\n",
       "      <td>False</td>\n",
       "      <td>False</td>\n",
       "      <td>False</td>\n",
       "      <td>False</td>\n",
       "      <td>False</td>\n",
       "    </tr>\n",
       "    <tr>\n",
       "      <th>...</th>\n",
       "      <td>...</td>\n",
       "      <td>...</td>\n",
       "      <td>...</td>\n",
       "      <td>...</td>\n",
       "      <td>...</td>\n",
       "      <td>...</td>\n",
       "      <td>...</td>\n",
       "    </tr>\n",
       "    <tr>\n",
       "      <th>1995</th>\n",
       "      <td>False</td>\n",
       "      <td>False</td>\n",
       "      <td>False</td>\n",
       "      <td>False</td>\n",
       "      <td>False</td>\n",
       "      <td>False</td>\n",
       "      <td>False</td>\n",
       "    </tr>\n",
       "    <tr>\n",
       "      <th>1996</th>\n",
       "      <td>False</td>\n",
       "      <td>False</td>\n",
       "      <td>False</td>\n",
       "      <td>False</td>\n",
       "      <td>False</td>\n",
       "      <td>False</td>\n",
       "      <td>False</td>\n",
       "    </tr>\n",
       "    <tr>\n",
       "      <th>1997</th>\n",
       "      <td>False</td>\n",
       "      <td>False</td>\n",
       "      <td>False</td>\n",
       "      <td>False</td>\n",
       "      <td>False</td>\n",
       "      <td>False</td>\n",
       "      <td>False</td>\n",
       "    </tr>\n",
       "    <tr>\n",
       "      <th>1998</th>\n",
       "      <td>False</td>\n",
       "      <td>False</td>\n",
       "      <td>False</td>\n",
       "      <td>False</td>\n",
       "      <td>False</td>\n",
       "      <td>False</td>\n",
       "      <td>False</td>\n",
       "    </tr>\n",
       "    <tr>\n",
       "      <th>1999</th>\n",
       "      <td>False</td>\n",
       "      <td>False</td>\n",
       "      <td>False</td>\n",
       "      <td>False</td>\n",
       "      <td>False</td>\n",
       "      <td>False</td>\n",
       "      <td>False</td>\n",
       "    </tr>\n",
       "  </tbody>\n",
       "</table>\n",
       "<p>2000 rows × 7 columns</p>\n",
       "</div>"
      ],
      "text/plain": [
       "       Rank  Company  Country  Sales  Profits  Assets  Market_value\n",
       "0     False    False    False  False    False   False         False\n",
       "1     False    False    False  False    False   False         False\n",
       "2     False    False    False  False    False   False         False\n",
       "3     False    False    False  False    False   False         False\n",
       "4     False    False    False  False    False   False         False\n",
       "...     ...      ...      ...    ...      ...     ...           ...\n",
       "1995  False    False    False  False    False   False         False\n",
       "1996  False    False    False  False    False   False         False\n",
       "1997  False    False    False  False    False   False         False\n",
       "1998  False    False    False  False    False   False         False\n",
       "1999  False    False    False  False    False   False         False\n",
       "\n",
       "[2000 rows x 7 columns]"
      ]
     },
     "execution_count": 27,
     "metadata": {},
     "output_type": "execute_result"
    }
   ],
   "source": [
    "#Tenemos un caracter extraño que no puede ser coercionado a float: '-'\n",
    "\n",
    "forbes21.isin(['-']) # Método de Pandas"
   ]
  },
  {
   "cell_type": "code",
   "execution_count": 32,
   "metadata": {},
   "outputs": [
    {
     "data": {
      "text/plain": [
       "Rank            False\n",
       "Company         False\n",
       "Country         False\n",
       "Sales           False\n",
       "Profits         False\n",
       "Assets           True\n",
       "Market_value    False\n",
       "dtype: bool"
      ]
     },
     "execution_count": 32,
     "metadata": {},
     "output_type": "execute_result"
    }
   ],
   "source": [
    "forbes21.isin(['-']).any()\n",
    "#forbes21.isin(['-']).any().any()"
   ]
  },
  {
   "cell_type": "code",
   "execution_count": 33,
   "metadata": {},
   "outputs": [],
   "source": [
    "# Remplazamos el '-' por NaN que es el missing de Pandas\n",
    "\n",
    "forbes21['Assets'] = forbes21['Assets'].replace('-',float('nan')) "
   ]
  },
  {
   "cell_type": "code",
   "execution_count": 36,
   "metadata": {},
   "outputs": [
    {
     "data": {
      "text/plain": [
       "Rank            False\n",
       "Company         False\n",
       "Country         False\n",
       "Sales           False\n",
       "Profits         False\n",
       "Assets          False\n",
       "Market_value    False\n",
       "dtype: bool"
      ]
     },
     "execution_count": 36,
     "metadata": {},
     "output_type": "execute_result"
    }
   ],
   "source": [
    "forbes21.isin(['-']).any()"
   ]
  },
  {
   "cell_type": "code",
   "execution_count": 38,
   "metadata": {},
   "outputs": [
    {
     "data": {
      "text/plain": [
       "Rank            False\n",
       "Company         False\n",
       "Country         False\n",
       "Sales           False\n",
       "Profits         False\n",
       "Assets           True\n",
       "Market_value    False\n",
       "dtype: bool"
      ]
     },
     "execution_count": 38,
     "metadata": {},
     "output_type": "execute_result"
    }
   ],
   "source": [
    "forbes21.isna().any()"
   ]
  },
  {
   "cell_type": "code",
   "execution_count": 39,
   "metadata": {},
   "outputs": [],
   "source": [
    "# Coercionar los datos de str a float\n",
    "forbes21.iloc[:,3:] = forbes21.iloc[:,3:].astype(float) "
   ]
  },
  {
   "cell_type": "code",
   "execution_count": 41,
   "metadata": {},
   "outputs": [
    {
     "data": {
      "text/plain": [
       "(2000, 19881.0805, 34400.37589231818, 1183385861.5327861)"
      ]
     },
     "execution_count": 41,
     "metadata": {},
     "output_type": "execute_result"
    }
   ],
   "source": [
    "forbes21['Sales'].count(), forbes21['Sales'].mean(), forbes21['Sales'].std(), forbes21['Sales'].var() #Varianza"
   ]
  },
  {
   "cell_type": "code",
   "execution_count": 42,
   "metadata": {},
   "outputs": [
    {
     "data": {
      "text/plain": [
       "Rank            0\n",
       "Company         0\n",
       "Country         0\n",
       "Sales           0\n",
       "Profits         0\n",
       "Assets          1\n",
       "Market_value    0\n",
       "dtype: int64"
      ]
     },
     "execution_count": 42,
     "metadata": {},
     "output_type": "execute_result"
    }
   ],
   "source": [
    "# ¿Cuántos datos vacias hay?\n",
    "\n",
    "forbes21.isna().sum()"
   ]
  },
  {
   "cell_type": "code",
   "execution_count": 43,
   "metadata": {},
   "outputs": [
    {
     "data": {
      "text/plain": [
       "0.05"
      ]
     },
     "execution_count": 43,
     "metadata": {},
     "output_type": "execute_result"
    }
   ],
   "source": [
    "# ¿A qué porcentaje del total de mis datos corresponden las observaciones vacias?\n",
    "\n",
    "100*forbes21.isna().sum().sum()/forbes21.shape[0] # Vacios sobre numero de registros\n",
    "\n",
    "# Si los vacios representan menos del 1%, podemos proceder a eliminarlos"
   ]
  },
  {
   "cell_type": "code",
   "execution_count": 44,
   "metadata": {},
   "outputs": [],
   "source": [
    "#Dos caminos posibles: eliminar o imputar datos\n",
    "\n",
    "# Eliminación de datos\n",
    "#forbes21 = forbes21.dropna() \n",
    "#forbes21.dropna(inplace= True) "
   ]
  },
  {
   "cell_type": "code",
   "execution_count": 45,
   "metadata": {},
   "outputs": [
    {
     "data": {
      "text/plain": [
       "Country\n",
       "Argentina                 2\n",
       "Australia                30\n",
       "Austria                   9\n",
       "Bahrain                   1\n",
       "Bangladesh                1\n",
       "                       ... \n",
       "United Arab Emirates      9\n",
       "United Kingdom           66\n",
       "United States           590\n",
       "Venezuela                 1\n",
       "Vietnam                   5\n",
       "Length: 61, dtype: int64"
      ]
     },
     "execution_count": 45,
     "metadata": {},
     "output_type": "execute_result"
    }
   ],
   "source": [
    "#Ejemplos de groupby\n",
    "forbes21.groupby('Country').size()"
   ]
  },
  {
   "cell_type": "code",
   "execution_count": 46,
   "metadata": {},
   "outputs": [
    {
     "data": {
      "text/html": [
       "<div>\n",
       "<style scoped>\n",
       "    .dataframe tbody tr th:only-of-type {\n",
       "        vertical-align: middle;\n",
       "    }\n",
       "\n",
       "    .dataframe tbody tr th {\n",
       "        vertical-align: top;\n",
       "    }\n",
       "\n",
       "    .dataframe thead th {\n",
       "        text-align: right;\n",
       "    }\n",
       "</style>\n",
       "<table border=\"1\" class=\"dataframe\">\n",
       "  <thead>\n",
       "    <tr style=\"text-align: right;\">\n",
       "      <th></th>\n",
       "      <th>Rank</th>\n",
       "      <th>Company</th>\n",
       "      <th>Country</th>\n",
       "      <th>Sales</th>\n",
       "      <th>Profits</th>\n",
       "      <th>Assets</th>\n",
       "      <th>Market_value</th>\n",
       "    </tr>\n",
       "  </thead>\n",
       "  <tbody>\n",
       "    <tr>\n",
       "      <th>1705</th>\n",
       "      <td>1706</td>\n",
       "      <td>National Bank of Greece</td>\n",
       "      <td>Greece</td>\n",
       "      <td>3300.0</td>\n",
       "      <td>43.0</td>\n",
       "      <td>94800.0</td>\n",
       "      <td>3000.0</td>\n",
       "    </tr>\n",
       "    <tr>\n",
       "      <th>1729</th>\n",
       "      <td>1730</td>\n",
       "      <td>Piraeus Bank</td>\n",
       "      <td>Greece</td>\n",
       "      <td>2700.0</td>\n",
       "      <td>-754.0</td>\n",
       "      <td>87600.0</td>\n",
       "      <td>289.0</td>\n",
       "    </tr>\n",
       "    <tr>\n",
       "      <th>1735</th>\n",
       "      <td>1736</td>\n",
       "      <td>Alpha Bank</td>\n",
       "      <td>Greece</td>\n",
       "      <td>3600.0</td>\n",
       "      <td>118.0</td>\n",
       "      <td>85700.0</td>\n",
       "      <td>2100.0</td>\n",
       "    </tr>\n",
       "    <tr>\n",
       "      <th>1748</th>\n",
       "      <td>1749</td>\n",
       "      <td>Eurobank Ergasias</td>\n",
       "      <td>Greece</td>\n",
       "      <td>3400.0</td>\n",
       "      <td>-1400.0</td>\n",
       "      <td>82900.0</td>\n",
       "      <td>3400.0</td>\n",
       "    </tr>\n",
       "    <tr>\n",
       "      <th>1932</th>\n",
       "      <td>1933</td>\n",
       "      <td>Bank of Greece</td>\n",
       "      <td>Greece</td>\n",
       "      <td>1300.0</td>\n",
       "      <td>943.0</td>\n",
       "      <td>87750.0</td>\n",
       "      <td>366.0</td>\n",
       "    </tr>\n",
       "  </tbody>\n",
       "</table>\n",
       "</div>"
      ],
      "text/plain": [
       "      Rank                  Company Country   Sales Profits   Assets  \\\n",
       "1705  1706  National Bank of Greece  Greece  3300.0    43.0  94800.0   \n",
       "1729  1730             Piraeus Bank  Greece  2700.0  -754.0  87600.0   \n",
       "1735  1736               Alpha Bank  Greece  3600.0   118.0  85700.0   \n",
       "1748  1749        Eurobank Ergasias  Greece  3400.0 -1400.0  82900.0   \n",
       "1932  1933           Bank of Greece  Greece  1300.0   943.0  87750.0   \n",
       "\n",
       "     Market_value  \n",
       "1705       3000.0  \n",
       "1729        289.0  \n",
       "1735       2100.0  \n",
       "1748       3400.0  \n",
       "1932        366.0  "
      ]
     },
     "execution_count": 46,
     "metadata": {},
     "output_type": "execute_result"
    }
   ],
   "source": [
    "forbes21[\"Assets\"].fillna(forbes21.groupby('Country')[\"Assets\"].transform(lambda x : x.mean()), inplace=True)\n",
    "forbes21[forbes21['Country'] == 'Greece']"
   ]
  },
  {
   "cell_type": "code",
   "execution_count": 48,
   "metadata": {},
   "outputs": [
    {
     "data": {
      "text/plain": [
       "Rank            0\n",
       "Company         0\n",
       "Country         0\n",
       "Sales           0\n",
       "Profits         0\n",
       "Assets          0\n",
       "Market_value    0\n",
       "dtype: int64"
      ]
     },
     "execution_count": 48,
     "metadata": {},
     "output_type": "execute_result"
    }
   ],
   "source": [
    "forbes21.isna().sum()"
   ]
  },
  {
   "attachments": {},
   "cell_type": "markdown",
   "metadata": {},
   "source": [
    "### Análisis exploratorio de datos [EDA]\n",
    "\n",
    "De explorar y de resumir los datos para poder sacar información relevante y consistente.\n",
    "1. Métodos tabulares\n",
    "2. Métodos numéricos\n",
    "3. Análisis gráfico"
   ]
  },
  {
   "cell_type": "code",
   "execution_count": 12,
   "metadata": {},
   "outputs": [
    {
     "data": {
      "text/plain": [
       "0                                        ICBC\n",
       "1                              JPMorgan Chase\n",
       "2                          Berkshire Hathaway\n",
       "3                     China Construction Bank\n",
       "4    Saudi Arabian Oil Company (Saudi Aramco)\n",
       "Name: Company, dtype: object"
      ]
     },
     "execution_count": 12,
     "metadata": {},
     "output_type": "execute_result"
    }
   ],
   "source": [
    "# Cuáles empresas son el top 5 del ranking de forbes 2000 2021\n",
    "\n",
    "forbes21.head(n=5)['Company']"
   ]
  },
  {
   "cell_type": "code",
   "execution_count": 17,
   "metadata": {},
   "outputs": [
    {
     "name": "stdout",
     "output_type": "stream",
     "text": [
      "[278.5 627.0 1400.0]\n",
      "0.25     278.5\n",
      "0.50     627.0\n",
      "0.75    1400.0\n",
      "Name: Profits, dtype: object\n"
     ]
    }
   ],
   "source": [
    "#Percentiles\n",
    "\n",
    "print(np.percentile(forbes21['Profits'],[25,50,75]))\n",
    "\n",
    "print(forbes21['Profits'].quantile([0.25,0.5,0.75]))"
   ]
  },
  {
   "cell_type": "code",
   "execution_count": 22,
   "metadata": {},
   "outputs": [
    {
     "name": "stdout",
     "output_type": "stream",
     "text": [
      "17802.0\n"
     ]
    }
   ],
   "source": [
    "# Valorar el 1% de las empresas con mas ganancias en el mundo\n",
    "\n",
    "p99p = np.percentile(forbes21['Profits'],99)\n",
    "print(p99p)\n"
   ]
  },
  {
   "cell_type": "code",
   "execution_count": 25,
   "metadata": {},
   "outputs": [
    {
     "data": {
      "text/html": [
       "<div>\n",
       "<style scoped>\n",
       "    .dataframe tbody tr th:only-of-type {\n",
       "        vertical-align: middle;\n",
       "    }\n",
       "\n",
       "    .dataframe tbody tr th {\n",
       "        vertical-align: top;\n",
       "    }\n",
       "\n",
       "    .dataframe thead th {\n",
       "        text-align: right;\n",
       "    }\n",
       "</style>\n",
       "<table border=\"1\" class=\"dataframe\">\n",
       "  <thead>\n",
       "    <tr style=\"text-align: right;\">\n",
       "      <th></th>\n",
       "      <th>Company</th>\n",
       "      <th>Country</th>\n",
       "      <th>Profits</th>\n",
       "    </tr>\n",
       "  </thead>\n",
       "  <tbody>\n",
       "    <tr>\n",
       "      <th>0</th>\n",
       "      <td>ICBC</td>\n",
       "      <td>China</td>\n",
       "      <td>45800.0</td>\n",
       "    </tr>\n",
       "    <tr>\n",
       "      <th>1</th>\n",
       "      <td>JPMorgan Chase</td>\n",
       "      <td>United States</td>\n",
       "      <td>40400.0</td>\n",
       "    </tr>\n",
       "    <tr>\n",
       "      <th>2</th>\n",
       "      <td>Berkshire Hathaway</td>\n",
       "      <td>United States</td>\n",
       "      <td>42500.0</td>\n",
       "    </tr>\n",
       "    <tr>\n",
       "      <th>3</th>\n",
       "      <td>China Construction Bank</td>\n",
       "      <td>China</td>\n",
       "      <td>39300.0</td>\n",
       "    </tr>\n",
       "    <tr>\n",
       "      <th>4</th>\n",
       "      <td>Saudi Arabian Oil Company (Saudi Aramco)</td>\n",
       "      <td>Saudi Arabia</td>\n",
       "      <td>49300.0</td>\n",
       "    </tr>\n",
       "    <tr>\n",
       "      <th>5</th>\n",
       "      <td>Apple</td>\n",
       "      <td>United States</td>\n",
       "      <td>63900.0</td>\n",
       "    </tr>\n",
       "    <tr>\n",
       "      <th>6</th>\n",
       "      <td>Bank of America</td>\n",
       "      <td>United States</td>\n",
       "      <td>17900.0</td>\n",
       "    </tr>\n",
       "    <tr>\n",
       "      <th>7</th>\n",
       "      <td>Ping An Insurance Group</td>\n",
       "      <td>China</td>\n",
       "      <td>20800.0</td>\n",
       "    </tr>\n",
       "    <tr>\n",
       "      <th>8</th>\n",
       "      <td>Agricultural Bank of China</td>\n",
       "      <td>China</td>\n",
       "      <td>31300.0</td>\n",
       "    </tr>\n",
       "    <tr>\n",
       "      <th>9</th>\n",
       "      <td>Amazon</td>\n",
       "      <td>United States</td>\n",
       "      <td>21300.0</td>\n",
       "    </tr>\n",
       "    <tr>\n",
       "      <th>10</th>\n",
       "      <td>Samsung Electronics</td>\n",
       "      <td>South Korea</td>\n",
       "      <td>22100.0</td>\n",
       "    </tr>\n",
       "    <tr>\n",
       "      <th>12</th>\n",
       "      <td>Alphabet</td>\n",
       "      <td>United States</td>\n",
       "      <td>40300.0</td>\n",
       "    </tr>\n",
       "    <tr>\n",
       "      <th>13</th>\n",
       "      <td>Bank of China</td>\n",
       "      <td>China</td>\n",
       "      <td>27900.0</td>\n",
       "    </tr>\n",
       "    <tr>\n",
       "      <th>14</th>\n",
       "      <td>Microsoft</td>\n",
       "      <td>United States</td>\n",
       "      <td>51300.0</td>\n",
       "    </tr>\n",
       "    <tr>\n",
       "      <th>22</th>\n",
       "      <td>Alibaba Group</td>\n",
       "      <td>China</td>\n",
       "      <td>23300.0</td>\n",
       "    </tr>\n",
       "    <tr>\n",
       "      <th>28</th>\n",
       "      <td>Tencent Holdings</td>\n",
       "      <td>China</td>\n",
       "      <td>23300.0</td>\n",
       "    </tr>\n",
       "    <tr>\n",
       "      <th>32</th>\n",
       "      <td>Facebook</td>\n",
       "      <td>United States</td>\n",
       "      <td>29100.0</td>\n",
       "    </tr>\n",
       "    <tr>\n",
       "      <th>35</th>\n",
       "      <td>Intel</td>\n",
       "      <td>United States</td>\n",
       "      <td>20900.0</td>\n",
       "    </tr>\n",
       "    <tr>\n",
       "      <th>65</th>\n",
       "      <td>Taiwan Semiconductor</td>\n",
       "      <td>Taiwan</td>\n",
       "      <td>18700.0</td>\n",
       "    </tr>\n",
       "    <tr>\n",
       "      <th>657</th>\n",
       "      <td>CNPC Capital</td>\n",
       "      <td>China</td>\n",
       "      <td>21900.0</td>\n",
       "    </tr>\n",
       "  </tbody>\n",
       "</table>\n",
       "</div>"
      ],
      "text/plain": [
       "                                      Company        Country  Profits\n",
       "0                                        ICBC          China  45800.0\n",
       "1                              JPMorgan Chase  United States  40400.0\n",
       "2                          Berkshire Hathaway  United States  42500.0\n",
       "3                     China Construction Bank          China  39300.0\n",
       "4    Saudi Arabian Oil Company (Saudi Aramco)   Saudi Arabia  49300.0\n",
       "5                                       Apple  United States  63900.0\n",
       "6                             Bank of America  United States  17900.0\n",
       "7                     Ping An Insurance Group          China  20800.0\n",
       "8                  Agricultural Bank of China          China  31300.0\n",
       "9                                      Amazon  United States  21300.0\n",
       "10                        Samsung Electronics    South Korea  22100.0\n",
       "12                                   Alphabet  United States  40300.0\n",
       "13                              Bank of China          China  27900.0\n",
       "14                                  Microsoft  United States  51300.0\n",
       "22                              Alibaba Group          China  23300.0\n",
       "28                           Tencent Holdings          China  23300.0\n",
       "32                                   Facebook  United States  29100.0\n",
       "35                                      Intel  United States  20900.0\n",
       "65                       Taiwan Semiconductor         Taiwan  18700.0\n",
       "657                              CNPC Capital          China  21900.0"
      ]
     },
     "execution_count": 25,
     "metadata": {},
     "output_type": "execute_result"
    }
   ],
   "source": [
    "# Filtrar de mi DF usando la condición de 'Profits' >  p99p\n",
    "\n",
    "forbes21[forbes21['Profits'] > p99p][['Company','Country','Profits']]"
   ]
  },
  {
   "cell_type": "code",
   "execution_count": 29,
   "metadata": {},
   "outputs": [
    {
     "name": "stdout",
     "output_type": "stream",
     "text": [
      "369813.9999999998\n"
     ]
    }
   ],
   "source": [
    "# 1% de las empresas con mayor valor del mercado\n",
    "\n",
    "p99mv = forbes21['Market_value'].quantile(0.99)\n",
    "print(p99mv)"
   ]
  },
  {
   "cell_type": "code",
   "execution_count": 30,
   "metadata": {},
   "outputs": [
    {
     "data": {
      "text/html": [
       "<div>\n",
       "<style scoped>\n",
       "    .dataframe tbody tr th:only-of-type {\n",
       "        vertical-align: middle;\n",
       "    }\n",
       "\n",
       "    .dataframe tbody tr th {\n",
       "        vertical-align: top;\n",
       "    }\n",
       "\n",
       "    .dataframe thead th {\n",
       "        text-align: right;\n",
       "    }\n",
       "</style>\n",
       "<table border=\"1\" class=\"dataframe\">\n",
       "  <thead>\n",
       "    <tr style=\"text-align: right;\">\n",
       "      <th></th>\n",
       "      <th>Company</th>\n",
       "      <th>Country</th>\n",
       "      <th>Market_value</th>\n",
       "    </tr>\n",
       "  </thead>\n",
       "  <tbody>\n",
       "    <tr>\n",
       "      <th>1</th>\n",
       "      <td>JPMorgan Chase</td>\n",
       "      <td>United States</td>\n",
       "      <td>464800.0</td>\n",
       "    </tr>\n",
       "    <tr>\n",
       "      <th>2</th>\n",
       "      <td>Berkshire Hathaway</td>\n",
       "      <td>United States</td>\n",
       "      <td>624400.0</td>\n",
       "    </tr>\n",
       "    <tr>\n",
       "      <th>4</th>\n",
       "      <td>Saudi Arabian Oil Company (Saudi Aramco)</td>\n",
       "      <td>Saudi Arabia</td>\n",
       "      <td>1897200.0</td>\n",
       "    </tr>\n",
       "    <tr>\n",
       "      <th>5</th>\n",
       "      <td>Apple</td>\n",
       "      <td>United States</td>\n",
       "      <td>2252300.0</td>\n",
       "    </tr>\n",
       "    <tr>\n",
       "      <th>9</th>\n",
       "      <td>Amazon</td>\n",
       "      <td>United States</td>\n",
       "      <td>1711800.0</td>\n",
       "    </tr>\n",
       "    <tr>\n",
       "      <th>10</th>\n",
       "      <td>Samsung Electronics</td>\n",
       "      <td>South Korea</td>\n",
       "      <td>510500.0</td>\n",
       "    </tr>\n",
       "    <tr>\n",
       "      <th>12</th>\n",
       "      <td>Alphabet</td>\n",
       "      <td>United States</td>\n",
       "      <td>1538900.0</td>\n",
       "    </tr>\n",
       "    <tr>\n",
       "      <th>14</th>\n",
       "      <td>Microsoft</td>\n",
       "      <td>United States</td>\n",
       "      <td>1966600.0</td>\n",
       "    </tr>\n",
       "    <tr>\n",
       "      <th>17</th>\n",
       "      <td>Walmart</td>\n",
       "      <td>United States</td>\n",
       "      <td>396100.0</td>\n",
       "    </tr>\n",
       "    <tr>\n",
       "      <th>22</th>\n",
       "      <td>Alibaba Group</td>\n",
       "      <td>China</td>\n",
       "      <td>657500.0</td>\n",
       "    </tr>\n",
       "    <tr>\n",
       "      <th>28</th>\n",
       "      <td>Tencent Holdings</td>\n",
       "      <td>China</td>\n",
       "      <td>773800.0</td>\n",
       "    </tr>\n",
       "    <tr>\n",
       "      <th>32</th>\n",
       "      <td>Facebook</td>\n",
       "      <td>United States</td>\n",
       "      <td>870500.0</td>\n",
       "    </tr>\n",
       "    <tr>\n",
       "      <th>33</th>\n",
       "      <td>Johnson &amp; Johnson</td>\n",
       "      <td>United States</td>\n",
       "      <td>427100.0</td>\n",
       "    </tr>\n",
       "    <tr>\n",
       "      <th>63</th>\n",
       "      <td>LVMH Moët Hennessy Louis Vuitton</td>\n",
       "      <td>France</td>\n",
       "      <td>380300.0</td>\n",
       "    </tr>\n",
       "    <tr>\n",
       "      <th>65</th>\n",
       "      <td>Taiwan Semiconductor</td>\n",
       "      <td>Taiwan</td>\n",
       "      <td>558100.0</td>\n",
       "    </tr>\n",
       "    <tr>\n",
       "      <th>121</th>\n",
       "      <td>Visa</td>\n",
       "      <td>United States</td>\n",
       "      <td>483900.0</td>\n",
       "    </tr>\n",
       "    <tr>\n",
       "      <th>240</th>\n",
       "      <td>Mastercard</td>\n",
       "      <td>United States</td>\n",
       "      <td>383600.0</td>\n",
       "    </tr>\n",
       "    <tr>\n",
       "      <th>255</th>\n",
       "      <td>NVIDIA</td>\n",
       "      <td>United States</td>\n",
       "      <td>396100.0</td>\n",
       "    </tr>\n",
       "    <tr>\n",
       "      <th>261</th>\n",
       "      <td>Tesla</td>\n",
       "      <td>United States</td>\n",
       "      <td>710100.0</td>\n",
       "    </tr>\n",
       "    <tr>\n",
       "      <th>263</th>\n",
       "      <td>Kweichow Moutai</td>\n",
       "      <td>China</td>\n",
       "      <td>395800.0</td>\n",
       "    </tr>\n",
       "  </tbody>\n",
       "</table>\n",
       "</div>"
      ],
      "text/plain": [
       "                                      Company        Country Market_value\n",
       "1                              JPMorgan Chase  United States     464800.0\n",
       "2                          Berkshire Hathaway  United States     624400.0\n",
       "4    Saudi Arabian Oil Company (Saudi Aramco)   Saudi Arabia    1897200.0\n",
       "5                                       Apple  United States    2252300.0\n",
       "9                                      Amazon  United States    1711800.0\n",
       "10                        Samsung Electronics    South Korea     510500.0\n",
       "12                                   Alphabet  United States    1538900.0\n",
       "14                                  Microsoft  United States    1966600.0\n",
       "17                                    Walmart  United States     396100.0\n",
       "22                              Alibaba Group          China     657500.0\n",
       "28                           Tencent Holdings          China     773800.0\n",
       "32                                   Facebook  United States     870500.0\n",
       "33                          Johnson & Johnson  United States     427100.0\n",
       "63           LVMH Moët Hennessy Louis Vuitton         France     380300.0\n",
       "65                       Taiwan Semiconductor         Taiwan     558100.0\n",
       "121                                      Visa  United States     483900.0\n",
       "240                                Mastercard  United States     383600.0\n",
       "255                                    NVIDIA  United States     396100.0\n",
       "261                                     Tesla  United States     710100.0\n",
       "263                           Kweichow Moutai          China     395800.0"
      ]
     },
     "execution_count": 30,
     "metadata": {},
     "output_type": "execute_result"
    }
   ],
   "source": [
    "forbes21[forbes21['Market_value']>p99mv][['Company','Country','Market_value']]"
   ]
  },
  {
   "cell_type": "code",
   "execution_count": 33,
   "metadata": {},
   "outputs": [
    {
     "data": {
      "text/html": [
       "<div>\n",
       "<style scoped>\n",
       "    .dataframe tbody tr th:only-of-type {\n",
       "        vertical-align: middle;\n",
       "    }\n",
       "\n",
       "    .dataframe tbody tr th {\n",
       "        vertical-align: top;\n",
       "    }\n",
       "\n",
       "    .dataframe thead th {\n",
       "        text-align: right;\n",
       "    }\n",
       "</style>\n",
       "<table border=\"1\" class=\"dataframe\">\n",
       "  <thead>\n",
       "    <tr style=\"text-align: right;\">\n",
       "      <th></th>\n",
       "      <th>Company</th>\n",
       "      <th>Country</th>\n",
       "      <th>Market_value</th>\n",
       "      <th>Profits</th>\n",
       "    </tr>\n",
       "  </thead>\n",
       "  <tbody>\n",
       "    <tr>\n",
       "      <th>1</th>\n",
       "      <td>JPMorgan Chase</td>\n",
       "      <td>United States</td>\n",
       "      <td>464800.0</td>\n",
       "      <td>40400.0</td>\n",
       "    </tr>\n",
       "    <tr>\n",
       "      <th>2</th>\n",
       "      <td>Berkshire Hathaway</td>\n",
       "      <td>United States</td>\n",
       "      <td>624400.0</td>\n",
       "      <td>42500.0</td>\n",
       "    </tr>\n",
       "    <tr>\n",
       "      <th>4</th>\n",
       "      <td>Saudi Arabian Oil Company (Saudi Aramco)</td>\n",
       "      <td>Saudi Arabia</td>\n",
       "      <td>1897200.0</td>\n",
       "      <td>49300.0</td>\n",
       "    </tr>\n",
       "    <tr>\n",
       "      <th>5</th>\n",
       "      <td>Apple</td>\n",
       "      <td>United States</td>\n",
       "      <td>2252300.0</td>\n",
       "      <td>63900.0</td>\n",
       "    </tr>\n",
       "    <tr>\n",
       "      <th>9</th>\n",
       "      <td>Amazon</td>\n",
       "      <td>United States</td>\n",
       "      <td>1711800.0</td>\n",
       "      <td>21300.0</td>\n",
       "    </tr>\n",
       "    <tr>\n",
       "      <th>10</th>\n",
       "      <td>Samsung Electronics</td>\n",
       "      <td>South Korea</td>\n",
       "      <td>510500.0</td>\n",
       "      <td>22100.0</td>\n",
       "    </tr>\n",
       "    <tr>\n",
       "      <th>12</th>\n",
       "      <td>Alphabet</td>\n",
       "      <td>United States</td>\n",
       "      <td>1538900.0</td>\n",
       "      <td>40300.0</td>\n",
       "    </tr>\n",
       "    <tr>\n",
       "      <th>14</th>\n",
       "      <td>Microsoft</td>\n",
       "      <td>United States</td>\n",
       "      <td>1966600.0</td>\n",
       "      <td>51300.0</td>\n",
       "    </tr>\n",
       "    <tr>\n",
       "      <th>22</th>\n",
       "      <td>Alibaba Group</td>\n",
       "      <td>China</td>\n",
       "      <td>657500.0</td>\n",
       "      <td>23300.0</td>\n",
       "    </tr>\n",
       "    <tr>\n",
       "      <th>28</th>\n",
       "      <td>Tencent Holdings</td>\n",
       "      <td>China</td>\n",
       "      <td>773800.0</td>\n",
       "      <td>23300.0</td>\n",
       "    </tr>\n",
       "    <tr>\n",
       "      <th>32</th>\n",
       "      <td>Facebook</td>\n",
       "      <td>United States</td>\n",
       "      <td>870500.0</td>\n",
       "      <td>29100.0</td>\n",
       "    </tr>\n",
       "    <tr>\n",
       "      <th>65</th>\n",
       "      <td>Taiwan Semiconductor</td>\n",
       "      <td>Taiwan</td>\n",
       "      <td>558100.0</td>\n",
       "      <td>18700.0</td>\n",
       "    </tr>\n",
       "  </tbody>\n",
       "</table>\n",
       "</div>"
      ],
      "text/plain": [
       "                                     Company        Country Market_value  \\\n",
       "1                             JPMorgan Chase  United States     464800.0   \n",
       "2                         Berkshire Hathaway  United States     624400.0   \n",
       "4   Saudi Arabian Oil Company (Saudi Aramco)   Saudi Arabia    1897200.0   \n",
       "5                                      Apple  United States    2252300.0   \n",
       "9                                     Amazon  United States    1711800.0   \n",
       "10                       Samsung Electronics    South Korea     510500.0   \n",
       "12                                  Alphabet  United States    1538900.0   \n",
       "14                                 Microsoft  United States    1966600.0   \n",
       "22                             Alibaba Group          China     657500.0   \n",
       "28                          Tencent Holdings          China     773800.0   \n",
       "32                                  Facebook  United States     870500.0   \n",
       "65                      Taiwan Semiconductor         Taiwan     558100.0   \n",
       "\n",
       "    Profits  \n",
       "1   40400.0  \n",
       "2   42500.0  \n",
       "4   49300.0  \n",
       "5   63900.0  \n",
       "9   21300.0  \n",
       "10  22100.0  \n",
       "12  40300.0  \n",
       "14  51300.0  \n",
       "22  23300.0  \n",
       "28  23300.0  \n",
       "32  29100.0  \n",
       "65  18700.0  "
      ]
     },
     "execution_count": 33,
     "metadata": {},
     "output_type": "execute_result"
    }
   ],
   "source": [
    "# Del 1% mas alto en valor de mercado, cuáles están en el 1% con mas ganancias\n",
    "# Operadores lógicos: y &, o |\n",
    "\n",
    "forbes21[(forbes21['Market_value']>p99mv) & (forbes21['Profits']>p99p)][['Company','Country','Market_value','Profits']]"
   ]
  },
  {
   "cell_type": "code",
   "execution_count": 37,
   "metadata": {},
   "outputs": [
    {
     "data": {
      "text/html": [
       "<div>\n",
       "<style scoped>\n",
       "    .dataframe tbody tr th:only-of-type {\n",
       "        vertical-align: middle;\n",
       "    }\n",
       "\n",
       "    .dataframe tbody tr th {\n",
       "        vertical-align: top;\n",
       "    }\n",
       "\n",
       "    .dataframe thead th {\n",
       "        text-align: right;\n",
       "    }\n",
       "</style>\n",
       "<table border=\"1\" class=\"dataframe\">\n",
       "  <thead>\n",
       "    <tr style=\"text-align: right;\">\n",
       "      <th></th>\n",
       "      <th>Rank</th>\n",
       "      <th>Company</th>\n",
       "      <th>Country</th>\n",
       "      <th>Sales</th>\n",
       "      <th>Profits</th>\n",
       "      <th>Assets</th>\n",
       "      <th>Market_value</th>\n",
       "    </tr>\n",
       "  </thead>\n",
       "  <tbody>\n",
       "    <tr>\n",
       "      <th>0</th>\n",
       "      <td>1</td>\n",
       "      <td>ICBC</td>\n",
       "      <td>China</td>\n",
       "      <td>190500.0</td>\n",
       "      <td>45800.0</td>\n",
       "      <td>4914700.0</td>\n",
       "      <td>249500.0</td>\n",
       "    </tr>\n",
       "    <tr>\n",
       "      <th>1</th>\n",
       "      <td>2</td>\n",
       "      <td>JPMorgan Chase</td>\n",
       "      <td>United States</td>\n",
       "      <td>136200.0</td>\n",
       "      <td>40400.0</td>\n",
       "      <td>3689300.0</td>\n",
       "      <td>464800.0</td>\n",
       "    </tr>\n",
       "    <tr>\n",
       "      <th>2</th>\n",
       "      <td>3</td>\n",
       "      <td>Berkshire Hathaway</td>\n",
       "      <td>United States</td>\n",
       "      <td>245500.0</td>\n",
       "      <td>42500.0</td>\n",
       "      <td>873700.0</td>\n",
       "      <td>624400.0</td>\n",
       "    </tr>\n",
       "    <tr>\n",
       "      <th>3</th>\n",
       "      <td>4</td>\n",
       "      <td>China Construction Bank</td>\n",
       "      <td>China</td>\n",
       "      <td>173500.0</td>\n",
       "      <td>39300.0</td>\n",
       "      <td>4301700.0</td>\n",
       "      <td>210400.0</td>\n",
       "    </tr>\n",
       "    <tr>\n",
       "      <th>4</th>\n",
       "      <td>5</td>\n",
       "      <td>Saudi Arabian Oil Company (Saudi Aramco)</td>\n",
       "      <td>Saudi Arabia</td>\n",
       "      <td>229700.0</td>\n",
       "      <td>49300.0</td>\n",
       "      <td>510300.0</td>\n",
       "      <td>1897200.0</td>\n",
       "    </tr>\n",
       "    <tr>\n",
       "      <th>...</th>\n",
       "      <td>...</td>\n",
       "      <td>...</td>\n",
       "      <td>...</td>\n",
       "      <td>...</td>\n",
       "      <td>...</td>\n",
       "      <td>...</td>\n",
       "      <td>...</td>\n",
       "    </tr>\n",
       "    <tr>\n",
       "      <th>1967</th>\n",
       "      <td>1968</td>\n",
       "      <td>Open House</td>\n",
       "      <td>Japan</td>\n",
       "      <td>5700.0</td>\n",
       "      <td>605.0</td>\n",
       "      <td>5600.0</td>\n",
       "      <td>5800.0</td>\n",
       "    </tr>\n",
       "    <tr>\n",
       "      <th>1968</th>\n",
       "      <td>1969</td>\n",
       "      <td>West Fraser Timber Co.</td>\n",
       "      <td>Canada</td>\n",
       "      <td>4400.0</td>\n",
       "      <td>579.0</td>\n",
       "      <td>4200.0</td>\n",
       "      <td>10500.0</td>\n",
       "    </tr>\n",
       "    <tr>\n",
       "      <th>1977</th>\n",
       "      <td>1978</td>\n",
       "      <td>Kingboard Holdings</td>\n",
       "      <td>Hong Kong</td>\n",
       "      <td>5600.0</td>\n",
       "      <td>606.0</td>\n",
       "      <td>12000.0</td>\n",
       "      <td>6700.0</td>\n",
       "    </tr>\n",
       "    <tr>\n",
       "      <th>1989</th>\n",
       "      <td>1990</td>\n",
       "      <td>Guangdong Investment</td>\n",
       "      <td>Hong Kong</td>\n",
       "      <td>3000.0</td>\n",
       "      <td>582.0</td>\n",
       "      <td>11600.0</td>\n",
       "      <td>10200.0</td>\n",
       "    </tr>\n",
       "    <tr>\n",
       "      <th>1998</th>\n",
       "      <td>1999</td>\n",
       "      <td>Gold Fields</td>\n",
       "      <td>South Africa</td>\n",
       "      <td>3900.0</td>\n",
       "      <td>718.0</td>\n",
       "      <td>7500.0</td>\n",
       "      <td>8900.0</td>\n",
       "    </tr>\n",
       "  </tbody>\n",
       "</table>\n",
       "<p>1184 rows × 7 columns</p>\n",
       "</div>"
      ],
      "text/plain": [
       "      Rank                                   Company        Country     Sales  \\\n",
       "0        1                                      ICBC          China  190500.0   \n",
       "1        2                            JPMorgan Chase  United States  136200.0   \n",
       "2        3                        Berkshire Hathaway  United States  245500.0   \n",
       "3        4                   China Construction Bank          China  173500.0   \n",
       "4        5  Saudi Arabian Oil Company (Saudi Aramco)   Saudi Arabia  229700.0   \n",
       "...    ...                                       ...            ...       ...   \n",
       "1967  1968                                Open House          Japan    5700.0   \n",
       "1968  1969                    West Fraser Timber Co.         Canada    4400.0   \n",
       "1977  1978                        Kingboard Holdings      Hong Kong    5600.0   \n",
       "1989  1990                      Guangdong Investment      Hong Kong    3000.0   \n",
       "1998  1999                               Gold Fields   South Africa    3900.0   \n",
       "\n",
       "      Profits     Assets Market_value  \n",
       "0     45800.0  4914700.0     249500.0  \n",
       "1     40400.0  3689300.0     464800.0  \n",
       "2     42500.0   873700.0     624400.0  \n",
       "3     39300.0  4301700.0     210400.0  \n",
       "4     49300.0   510300.0    1897200.0  \n",
       "...       ...        ...          ...  \n",
       "1967    605.0     5600.0       5800.0  \n",
       "1968    579.0     4200.0      10500.0  \n",
       "1977    606.0    12000.0       6700.0  \n",
       "1989    582.0    11600.0      10200.0  \n",
       "1998    718.0     7500.0       8900.0  \n",
       "\n",
       "[1184 rows x 7 columns]"
      ]
     },
     "execution_count": 37,
     "metadata": {},
     "output_type": "execute_result"
    }
   ],
   "source": [
    "forbes21[(forbes21['Country']== 'Colombia') & (forbes21['Profits']> 500)]"
   ]
  },
  {
   "cell_type": "code",
   "execution_count": 39,
   "metadata": {},
   "outputs": [
    {
     "data": {
      "text/html": [
       "<div>\n",
       "<style scoped>\n",
       "    .dataframe tbody tr th:only-of-type {\n",
       "        vertical-align: middle;\n",
       "    }\n",
       "\n",
       "    .dataframe tbody tr th {\n",
       "        vertical-align: top;\n",
       "    }\n",
       "\n",
       "    .dataframe thead th {\n",
       "        text-align: right;\n",
       "    }\n",
       "</style>\n",
       "<table border=\"1\" class=\"dataframe\">\n",
       "  <thead>\n",
       "    <tr style=\"text-align: right;\">\n",
       "      <th></th>\n",
       "      <th>Rank</th>\n",
       "      <th>Company</th>\n",
       "      <th>Country</th>\n",
       "      <th>Sales</th>\n",
       "      <th>Profits</th>\n",
       "      <th>Assets</th>\n",
       "      <th>Market_value</th>\n",
       "    </tr>\n",
       "  </thead>\n",
       "  <tbody>\n",
       "    <tr>\n",
       "      <th>1562</th>\n",
       "      <td>1563</td>\n",
       "      <td>MercadoLibre</td>\n",
       "      <td>Argentina</td>\n",
       "      <td>4000.0</td>\n",
       "      <td>-1.0</td>\n",
       "      <td>6500.0</td>\n",
       "      <td>79400.0</td>\n",
       "    </tr>\n",
       "    <tr>\n",
       "      <th>1691</th>\n",
       "      <td>1692</td>\n",
       "      <td>YPF</td>\n",
       "      <td>Argentina</td>\n",
       "      <td>9500.0</td>\n",
       "      <td>-982.0</td>\n",
       "      <td>22900.0</td>\n",
       "      <td>2500.0</td>\n",
       "    </tr>\n",
       "  </tbody>\n",
       "</table>\n",
       "</div>"
      ],
      "text/plain": [
       "      Rank       Company    Country   Sales Profits   Assets Market_value\n",
       "1562  1563  MercadoLibre  Argentina  4000.0    -1.0   6500.0      79400.0\n",
       "1691  1692           YPF  Argentina  9500.0  -982.0  22900.0       2500.0"
      ]
     },
     "execution_count": 39,
     "metadata": {},
     "output_type": "execute_result"
    }
   ],
   "source": [
    "forbes21[(forbes21['Country']== 'Argentina')]"
   ]
  },
  {
   "cell_type": "code",
   "execution_count": 60,
   "metadata": {},
   "outputs": [
    {
     "data": {
      "text/plain": [
       "Country\n",
       "United States     29.514757\n",
       "China             14.557279\n",
       "Japan             10.755378\n",
       "United Kingdom     3.301651\n",
       "South Korea        3.101551\n",
       "Hong Kong          2.951476\n",
       "Canada             2.801401\n",
       "Germany            2.701351\n",
       "France             2.651326\n",
       "India              2.501251\n",
       "Name: count, dtype: float64"
      ]
     },
     "execution_count": 60,
     "metadata": {},
     "output_type": "execute_result"
    }
   ],
   "source": [
    "# Tablas de frecuencia\n",
    "\n",
    "table_country = 100*forbes21['Country'].value_counts()/forbes21['Country'].count()\n",
    "table_country.head(10)"
   ]
  },
  {
   "cell_type": "code",
   "execution_count": 64,
   "metadata": {},
   "outputs": [
    {
     "name": "stdout",
     "output_type": "stream",
     "text": [
      "0    0\n",
      "1    1\n",
      "2    2\n",
      "3    3\n",
      "4    4\n",
      "5    5\n",
      "6    6\n",
      "7    7\n",
      "8    8\n",
      "9    9\n",
      "dtype: int64\n",
      "[5, 6, 12]\n"
     ]
    }
   ],
   "source": [
    "ejemplo = list(range(10))\n",
    "ejemplo = pd.Series(ejemplo)\n",
    "comparar = [5,6,12]\n",
    "print(ejemplo)\n",
    "print(comparar)\n"
   ]
  },
  {
   "cell_type": "code",
   "execution_count": 67,
   "metadata": {},
   "outputs": [
    {
     "data": {
      "text/plain": [
       "0    False\n",
       "1    False\n",
       "2    False\n",
       "3    False\n",
       "4    False\n",
       "5     True\n",
       "6     True\n",
       "7    False\n",
       "8    False\n",
       "9    False\n",
       "dtype: bool"
      ]
     },
     "execution_count": 67,
     "metadata": {},
     "output_type": "execute_result"
    }
   ],
   "source": [
    "#Comparadores lógicos: ==, !=, >, <, isin\n",
    "#Operadores lógicos: & |\n",
    "\n",
    "ejemplo.isin(comparar) "
   ]
  },
  {
   "cell_type": "code",
   "execution_count": 68,
   "metadata": {},
   "outputs": [],
   "source": [
    "suda = ['Argentina','Bolivia','Brazil','Chile','Colombia','Ecuador','Paraguay','Peru','Uruguay','Venezuela']"
   ]
  },
  {
   "cell_type": "code",
   "execution_count": 71,
   "metadata": {},
   "outputs": [],
   "source": [
    "f_suda = forbes21[forbes21['Country'].isin(suda)]"
   ]
  },
  {
   "cell_type": "code",
   "execution_count": 80,
   "metadata": {},
   "outputs": [],
   "source": [
    "EUROPE = ['Albania', 'Germany', 'Andorra', 'Armenia', 'Austria', 'Azerbaijan', 'Belgium', 'Belarus', 'Bosnia and Herzegovina', 'Bulgaria', 'Cyprus', 'Croatia', 'Denmark', 'Slovakia', 'Slovenia', 'Spain', 'Estonia', 'Finland', 'France', 'Georgia', 'Greece', 'Hungary', 'Ireland', 'Iceland', 'Italy', 'Kazakhstan', 'Kosovo', 'Latvia', 'Liechtenstein', 'Lithuania', 'Luxembourg', 'North Macedonia', 'Malta', 'Moldova', 'Monaco', 'Montenegro', 'Norway', 'Netherlands', 'Poland', 'Portugal', 'United Kingdom', 'Czech Republic', 'Romania', 'Russia', 'San Marino', 'Serbia', 'Sweden', 'Switzerland', 'Ukraine', 'Vatican City']"
   ]
  },
  {
   "cell_type": "code",
   "execution_count": 84,
   "metadata": {},
   "outputs": [],
   "source": [
    "f_europe = forbes21[forbes21['Country'].isin(EUROPE)]"
   ]
  },
  {
   "cell_type": "code",
   "execution_count": 88,
   "metadata": {},
   "outputs": [
    {
     "data": {
      "text/plain": [
       "Country\n",
       "United Kingdom    66\n",
       "Germany           54\n",
       "France            53\n",
       "Switzerland       42\n",
       "Sweden            32\n",
       "Russia            24\n",
       "Italy             23\n",
       "Spain             21\n",
       "Netherlands       20\n",
       "Ireland           18\n",
       "Denmark           12\n",
       "Belgium            9\n",
       "Austria            9\n",
       "Finland            9\n",
       "Norway             8\n",
       "Luxembourg         7\n",
       "Poland             7\n",
       "Portugal           4\n",
       "Greece             4\n",
       "Hungary            2\n",
       "Kazakhstan         2\n",
       "Monaco             1\n",
       "Czech Republic     1\n",
       "Cyprus             1\n",
       "Name: count, dtype: int64"
      ]
     },
     "execution_count": 88,
     "metadata": {},
     "output_type": "execute_result"
    }
   ],
   "source": [
    "f_europe['Country'].value_counts()"
   ]
  },
  {
   "cell_type": "code",
   "execution_count": 90,
   "metadata": {},
   "outputs": [
    {
     "data": {
      "text/plain": [
       "Country\n",
       "Brazil       21\n",
       "Chile         5\n",
       "Colombia      3\n",
       "Argentina     2\n",
       "Venezuela     1\n",
       "Peru          1\n",
       "Name: count, dtype: int64"
      ]
     },
     "execution_count": 90,
     "metadata": {},
     "output_type": "execute_result"
    }
   ],
   "source": [
    "f_suda['Country'].value_counts()"
   ]
  },
  {
   "cell_type": "code",
   "execution_count": 99,
   "metadata": {},
   "outputs": [
    {
     "name": "stdout",
     "output_type": "stream",
     "text": [
      "Media de ventas: 19890.375687843924\n",
      "Media de ventas en empresas sudamericanas: 14981.818181818182\n",
      "Media de ventas en empresas europa: 20965.065268065267\n"
     ]
    }
   ],
   "source": [
    "# Métodos numéricos\n",
    "\n",
    "# Medidas de centralidad: media\n",
    "\n",
    "print('Media de ventas:', np.mean(forbes21['Sales']))\n",
    "print('Media de ventas en empresas sudamericanas:',np.mean(f_suda['Sales']))\n",
    "print('Media de ventas en empresas europa:',np.mean(f_europe['Sales']))"
   ]
  },
  {
   "cell_type": "code",
   "execution_count": 101,
   "metadata": {},
   "outputs": [
    {
     "name": "stdout",
     "output_type": "stream",
     "text": [
      "Mediana de ventas: 9800.0\n",
      "Mediana de ventas en empresas sudamericanas: 9500.0\n",
      "Mediana de ventas en empresas europa: 11700.0\n"
     ]
    }
   ],
   "source": [
    "# Medidas de centralidad: mediana\n",
    "\n",
    "print('Mediana de ventas:', np.median(forbes21['Sales']))\n",
    "print('Mediana de ventas en empresas sudamericanas:',np.median(f_suda['Sales']))\n",
    "print('Mediana de ventas en empresas europa:',np.median(f_europe['Sales']))"
   ]
  },
  {
   "cell_type": "code",
   "execution_count": 106,
   "metadata": {},
   "outputs": [
    {
     "data": {
      "text/plain": [
       "Sales            19890.375688\n",
       "Profits           1268.281641\n",
       "Assets          111759.040020\n",
       "Market_value     39874.671336\n",
       "dtype: float64"
      ]
     },
     "execution_count": 106,
     "metadata": {},
     "output_type": "execute_result"
    }
   ],
   "source": [
    "forbes21.iloc[:,3:].apply(func=np.mean,axis = 0) #0 para columnas, 1 para filas"
   ]
  },
  {
   "cell_type": "code",
   "execution_count": 108,
   "metadata": {},
   "outputs": [
    {
     "data": {
      "text/plain": [
       "Sales            9800.0\n",
       "Profits           627.0\n",
       "Assets          30200.0\n",
       "Market_value    17700.0\n",
       "dtype: float64"
      ]
     },
     "execution_count": 108,
     "metadata": {},
     "output_type": "execute_result"
    }
   ],
   "source": [
    "forbes21.iloc[:,3:].apply(func=np.median,axis = 0)"
   ]
  },
  {
   "cell_type": "code",
   "execution_count": 111,
   "metadata": {},
   "outputs": [
    {
     "data": {
      "text/plain": [
       "Sales            34397.864185\n",
       "Profits           4313.851646\n",
       "Assets          346200.132330\n",
       "Market_value    111700.231881\n",
       "dtype: float64"
      ]
     },
     "execution_count": 111,
     "metadata": {},
     "output_type": "execute_result"
    }
   ],
   "source": [
    "forbes21.iloc[:,3:].apply(func=np.std,axis = 0)"
   ]
  },
  {
   "cell_type": "code",
   "execution_count": 112,
   "metadata": {},
   "outputs": [],
   "source": [
    "def cv(data):\n",
    "    media = np.mean(data)\n",
    "    sd = np.std(data)\n",
    "    coef = (sd/media)*100\n",
    "    return coef"
   ]
  },
  {
   "cell_type": "code",
   "execution_count": 114,
   "metadata": {},
   "outputs": [
    {
     "data": {
      "text/plain": [
       "172.9372271543006"
      ]
     },
     "execution_count": 114,
     "metadata": {},
     "output_type": "execute_result"
    }
   ],
   "source": [
    "cv(forbes21['Sales'])"
   ]
  },
  {
   "cell_type": "code",
   "execution_count": 115,
   "metadata": {},
   "outputs": [
    {
     "data": {
      "text/plain": [
       "Sales           172.937227\n",
       "Profits         340.133572\n",
       "Assets          309.773717\n",
       "Market_value    280.128282\n",
       "dtype: float64"
      ]
     },
     "execution_count": 115,
     "metadata": {},
     "output_type": "execute_result"
    }
   ],
   "source": [
    "forbes21.iloc[:,3:].apply(func=cv,axis = 0)"
   ]
  },
  {
   "cell_type": "code",
   "execution_count": 121,
   "metadata": {},
   "outputs": [
    {
     "data": {
      "text/plain": [
       "21.0"
      ]
     },
     "execution_count": 121,
     "metadata": {},
     "output_type": "execute_result"
    }
   ],
   "source": [
    "# outliears: datos atípicos\n",
    "\n",
    "age = [20,22,19,21,69]\n",
    "np.mean(age)\n",
    "np.median(age)"
   ]
  },
  {
   "attachments": {},
   "cell_type": "markdown",
   "metadata": {},
   "source": [
    "### Librería gráfica Matplotlib\n",
    "\n",
    "Es una biblioteca de visualización de datos multiplataforma basa en los arrays de numpy\n",
    "- import matplotlib as mpl\n",
    "- import matplotlib.pyplot as plt"
   ]
  },
  {
   "cell_type": "code",
   "execution_count": 123,
   "metadata": {},
   "outputs": [],
   "source": [
    "#pip install matplotlib\n",
    "import matplotlib.pyplot as plt"
   ]
  },
  {
   "cell_type": "code",
   "execution_count": 152,
   "metadata": {},
   "outputs": [
    {
     "data": {
      "image/png": "[encoded data removed]",
      "text/plain": [
       "<Figure size 640x480 with 1 Axes>"
      ]
     },
     "metadata": {},
     "output_type": "display_data"
    }
   ],
   "source": [
    "# Bar plot\n",
    "table_suda=f_suda['Country'].value_counts()\n",
    "table_suda\n",
    "\n",
    "plt.bar(table_suda.index,table_suda.values, color = 'purple', alpha = 0.9, edgecolor = 'white') #Crea el gráfico de barras\n",
    "plt.title('Frecuencia de empresas sudamericanas')\n",
    "plt.xlabel('Paises sudamericanos')\n",
    "plt.ylabel('Frecuencia absoluta')\n",
    "plt.grid(color = 'gray',alpha = 0.3, linestyle = 'solid')\n",
    "\n",
    "plt.show() #Imprime el gráfico"
   ]
  },
  {
   "cell_type": "code",
   "execution_count": 153,
   "metadata": {},
   "outputs": [
    {
     "data": {
      "image/png": "[encoded data removed]",
      "text/plain": [
       "<Figure size 640x480 with 1 Axes>"
      ]
     },
     "metadata": {},
     "output_type": "display_data"
    }
   ],
   "source": [
    "table_europe = f_europe['Country'].value_counts()\n",
    "\n",
    "\n",
    "plt.bar(table_europe.index,table_europe.values, color = 'orange', alpha = .9, edgecolor = 'white') #Crea el gráfico de barras\n",
    "plt.title('Frecuencia de empresas sudamericanas')\n",
    "plt.xlabel('Paises sudamericanos')\n",
    "plt.ylabel('Frecuencia absoluta')\n",
    "plt.grid(color = 'gray',alpha = 0.3, linestyle = 'solid')\n",
    "\n",
    "plt.show() #Imprime el gráfico"
   ]
  },
  {
   "cell_type": "code",
   "execution_count": 156,
   "metadata": {},
   "outputs": [
    {
     "data": {
      "image/png": "[encoded data removed]",
      "text/plain": [
       "<Figure size 640x480 with 1 Axes>"
      ]
     },
     "metadata": {},
     "output_type": "display_data"
    }
   ],
   "source": [
    "# pie chart\n",
    "\n",
    "plt.pie(table_suda.values,labels=table_suda.index)\n",
    "plt.title('Segmento de empresas por paises')\n",
    "\n",
    "plt.show()"
   ]
  },
  {
   "cell_type": "code",
   "execution_count": 158,
   "metadata": {},
   "outputs": [
    {
     "data": {
      "image/png": "[encoded data removed]",
      "text/plain": [
       "<Figure size 640x480 with 1 Axes>"
      ]
     },
     "metadata": {},
     "output_type": "display_data"
    }
   ],
   "source": [
    "# Histogramas\n",
    "\n",
    "plt.hist(forbes21[\"Sales\"], color='purple',edgecolor = 'black')\n",
    "plt.grid(color='gray', linestyle='solid', alpha = 0.3)\n",
    "\n",
    "plt.show()"
   ]
  },
  {
   "cell_type": "code",
   "execution_count": 159,
   "metadata": {},
   "outputs": [
    {
     "data": {
      "image/png": "[encoded data removed]",
      "text/plain": [
       "<Figure size 640x480 with 1 Axes>"
      ]
     },
     "metadata": {},
     "output_type": "display_data"
    }
   ],
   "source": [
    "plt.hist(forbes21[\"Profits\"], color='orange',edgecolor = 'black')\n",
    "plt.grid(color='gray', linestyle='solid', alpha = 0.3)\n",
    "\n",
    "plt.show()"
   ]
  },
  {
   "cell_type": "code",
   "execution_count": 160,
   "metadata": {},
   "outputs": [
    {
     "data": {
      "image/png": "[encoded data removed]",
      "text/plain": [
       "<Figure size 640x480 with 1 Axes>"
      ]
     },
     "metadata": {},
     "output_type": "display_data"
    }
   ],
   "source": [
    "# Crear histograma para la columna \"Sales\"\n",
    "plt.hist(forbes21['Sales'], alpha=0.5, label='Sales')\n",
    "\n",
    "# Crear histograma para la columna \"Profits\"\n",
    "plt.hist(forbes21['Profits'], alpha=0.5, label='Profits')\n",
    "\n",
    "# Agregar leyenda\n",
    "plt.legend()\n",
    "\n",
    "# Configurar etiquetas y título\n",
    "plt.xlabel('Valor')\n",
    "plt.ylabel('Frecuencia')\n",
    "plt.title('Histograma de Sales y Profits')\n",
    "plt.grid(color='gray', linestyle='solid', alpha = 0.3)\n",
    "\n",
    "\n",
    "# Mostrar el gráfico\n",
    "plt.show()"
   ]
  }
 ],
 "metadata": {
  "kernelspec": {
   "display_name": "Python 3",
   "language": "python",
   "name": "python3"
  },
  "language_info": {
   "codemirror_mode": {
    "name": "ipython",
    "version": 3
   },
   "file_extension": ".py",
   "mimetype": "text/x-python",
   "name": "python",
   "nbconvert_exporter": "python",
   "pygments_lexer": "ipython3",
   "version": "3.11.3"
  },
  "orig_nbformat": 4
 },
 "nbformat": 4,
 "nbformat_minor": 2
}
