{
 "cells": [
  {
   "attachments": {},
   "cell_type": "markdown",
   "metadata": {},
   "source": [
    "## Sesión 1. introducción a python\n",
    "\n",
    "Python es un lenguaje de programación de alto nivel creado por Guido van Rossum y lanzado por primera vez en 1991. Es conocido por su simplicidad, legibilidad y enfoque en la facilidad de uso. Python se utiliza en una amplia variedad de aplicaciones, desde desarrollo web y científico hasta automatización de tareas y desarrollo de software en general.\n",
    "\n",
    "Python es un lengua de programación:\n",
    " \n",
    " - Es un lenguaje de programación de alto nivel \n",
    " - Es un lenguaje de tipado dinámico\n",
    " - Es un lenaguaje interpretado\n",
    " - Paradigma POO.\n",
    " - Es un lenguaje de progrmación versatil y multipropósito\n",
    " - Comunidad activa"
   ]
  },
  {
   "attachments": {},
   "cell_type": "markdown",
   "metadata": {},
   "source": [
    "### 2. Objetos en python\n",
    "\n",
    "En Python, todo es un objeto. Un objeto es una instancia de una clase, y las clases son las plantillas que definen la estructura y el comportamiento de los objetos.\n",
    "Un objeto es un lugar donde se pueden guardar valores; estos se declaran con un nombre y una asignación de contenido.\n",
    "Los objetos cotienen datos (atributos, variables) y funciones (métodos)."
   ]
  },
  {
   "cell_type": "code",
   "execution_count": 2,
   "metadata": {},
   "outputs": [
    {
     "name": "stdout",
     "output_type": "stream",
     "text": [
      "Julián 28\n"
     ]
    }
   ],
   "source": [
    "name = 'Julián'\n",
    "age = 28\n",
    "print(name, age) #print() es una función"
   ]
  },
  {
   "cell_type": "code",
   "execution_count": 4,
   "metadata": {},
   "outputs": [
    {
     "name": "stdout",
     "output_type": "stream",
     "text": [
      "Con Print puedo concatenar variables como mi nombre Julián y mi edad que es 28 usando la coma como separados y las comillas en textos\n"
     ]
    }
   ],
   "source": [
    "print('Con Print puedo concatenar variables como mi nombre',name,'y mi edad que es',age,'usando la coma como separados y las comillas en sentenceos')"
   ]
  },
  {
   "cell_type": "code",
   "execution_count": 5,
   "metadata": {},
   "outputs": [
    {
     "name": "stdout",
     "output_type": "stream",
     "text": [
      "Tu nombre es Julián y tu edad es 29 años\n"
     ]
    }
   ],
   "source": [
    "# Nuestro primer programa con la función input\n",
    "\n",
    "name = input('¿Cuál es tu nombre')\n",
    "age = input('¿Cuántos años tienes')\n",
    "print('Tu nombre es', name, 'y tu edad es', age, 'años')"
   ]
  },
  {
   "cell_type": "code",
   "execution_count": 10,
   "metadata": {},
   "outputs": [
    {
     "ename": "TypeError",
     "evalue": "can only concatenate str (not \"int\") to str",
     "output_type": "error",
     "traceback": [
      "\u001b[1;31m---------------------------------------------------------------------------\u001b[0m",
      "\u001b[1;31mTypeError\u001b[0m                                 Traceback (most recent call last)",
      "Cell \u001b[1;32mIn[10], line 4\u001b[0m\n\u001b[0;32m      1\u001b[0m \u001b[39m# Creen un programa que le solicite la edad al usuario y le responda cuántos años va a tener en 7 años\u001b[39;00m\n\u001b[0;32m      3\u001b[0m edad \u001b[39m=\u001b[39m \u001b[39minput\u001b[39m(\u001b[39m'\u001b[39m\u001b[39m¿Cuántos años tienes\u001b[39m\u001b[39m'\u001b[39m)\n\u001b[1;32m----> 4\u001b[0m edadfutura \u001b[39m=\u001b[39m edad \u001b[39m+\u001b[39;49m \u001b[39m7\u001b[39;49m\n\u001b[0;32m      5\u001b[0m \u001b[39mprint\u001b[39m(\u001b[39m'\u001b[39m\u001b[39mTu edad en 7 años será\u001b[39m\u001b[39m'\u001b[39m, edadfutura, \u001b[39m'\u001b[39m\u001b[39maños\u001b[39m\u001b[39m'\u001b[39m)\n",
      "\u001b[1;31mTypeError\u001b[0m: can only concatenate str (not \"int\") to str"
     ]
    }
   ],
   "source": [
    "# Creen un programa que le solicite la edad al usuario y le responda cuántos años va a tener en 7 años\n",
    "\n",
    "edad = input('¿Cuántos años tienes')\n",
    "edadfutura = edad + 7\n",
    "print('Tu edad en 7 años será', edadfutura, 'años')\n",
    "\n",
    "#¿Cuál es el error?"
   ]
  },
  {
   "cell_type": "code",
   "execution_count": 26,
   "metadata": {},
   "outputs": [
    {
     "data": {
      "text/plain": [
       "(int, type, type, float)"
      ]
     },
     "execution_count": 26,
     "metadata": {},
     "output_type": "execute_result"
    }
   ],
   "source": [
    "#========================================================================\n",
    "# Cuatro tipos de varibles (string [str], integer [int], float, booleanos)\n",
    "#========================================================================\n",
    "\n",
    "num = 5\n",
    "string = 'Texto de ejemplo'\n",
    "booleano = True\n",
    "pi = 3.141592\n",
    "eje = 0\n",
    "\n",
    "type(num), type(str), type(bool), type(pi)"
   ]
  },
  {
   "cell_type": "code",
   "execution_count": null,
   "metadata": {},
   "outputs": [],
   "source": [
    "# Coerción de objetos\n",
    "\n",
    "int(pi), int(booleano), str(num), bool(eje)"
   ]
  },
  {
   "cell_type": "code",
   "execution_count": 13,
   "metadata": {},
   "outputs": [
    {
     "name": "stdout",
     "output_type": "stream",
     "text": [
      "Julián López Hernández\n",
      "Julián López Hernández\n"
     ]
    }
   ],
   "source": [
    "###################################\n",
    "######## Variable String ##########\n",
    "\n",
    "name = 'Julián'\n",
    "last_name = \"López Hernández\"\n",
    "\n",
    "print(name, last_name) #Concatenación para impresión\n",
    "\n",
    "full_name = name + ' '+ last_name #Concatenación en la creación de una variable\n",
    "print(full_name)"
   ]
  },
  {
   "cell_type": "code",
   "execution_count": 12,
   "metadata": {},
   "outputs": [
    {
     "data": {
      "text/plain": [
       "(str, 22)"
      ]
     },
     "execution_count": 12,
     "metadata": {},
     "output_type": "execute_result"
    }
   ],
   "source": [
    "# Tipo y longitud \n",
    "\n",
    "type(full_name), len(full_name)"
   ]
  },
  {
   "cell_type": "code",
   "execution_count": 15,
   "metadata": {},
   "outputs": [
    {
     "name": "stdout",
     "output_type": "stream",
     "text": [
      "Hola, mi nombre es Julián y mis apellidos son López Hernández\n"
     ]
    }
   ],
   "source": [
    "# La forma mas popular de incorporar información a un string es con format o f\n",
    "\n",
    "sentence = f'Hola, mi nombre es {name} y mis apellidos son {last_name}'\n",
    "\n",
    "print(sentence)"
   ]
  },
  {
   "cell_type": "code",
   "execution_count": 19,
   "metadata": {},
   "outputs": [
    {
     "name": "stdout",
     "output_type": "stream",
     "text": [
      "Estamos aprendiendo ciencia de datos con python\n"
     ]
    }
   ],
   "source": [
    "##################################\n",
    "######## Métodos String ##########\n",
    "\n",
    "sentence = 'Estamos aprendiendo ciencia de datos con python'\n",
    "print(sentence)"
   ]
  },
  {
   "cell_type": "code",
   "execution_count": 18,
   "metadata": {},
   "outputs": [
    {
     "data": {
      "text/plain": [
       "-1"
      ]
     },
     "execution_count": 18,
     "metadata": {},
     "output_type": "execute_result"
    }
   ],
   "source": [
    "#Algunos métodos para los str\n",
    "sentence.count('a')\n",
    "sentence.upper()\n",
    "sentence.lower()\n",
    "sentence.startswith('Estamos')\n",
    "sentence.endswith('Python')\n",
    "sentence.capitalize()\n",
    "sentence.title()\n",
    "sentence.replace('Python','R')\n",
    "sentence.find('ciencia')"
   ]
  },
  {
   "cell_type": "code",
   "execution_count": 60,
   "metadata": {},
   "outputs": [
    {
     "name": "stdout",
     "output_type": "stream",
     "text": [
      "<class 'int'>\n",
      "<class 'float'>\n"
     ]
    }
   ],
   "source": [
    "##################################\n",
    "#### Variables int and float #####\n",
    "\n",
    "num = 5\n",
    "print(type(num))\n",
    "flo = 3.141592\n",
    "print(type(flo))\n",
    "# print(len(int))"
   ]
  },
  {
   "cell_type": "code",
   "execution_count": 29,
   "metadata": {},
   "outputs": [
    {
     "name": "stdout",
     "output_type": "stream",
     "text": [
      "8.141592\n"
     ]
    }
   ],
   "source": [
    "###################################\n",
    "# Operaciones aritméticas básicas #\n",
    "\n",
    "operacion = pi + num\n",
    "print(operacion)"
   ]
  },
  {
   "cell_type": "code",
   "execution_count": 31,
   "metadata": {},
   "outputs": [
    {
     "name": "stdout",
     "output_type": "stream",
     "text": [
      "6.141591999999999\n"
     ]
    }
   ],
   "source": [
    "#operacion = operacion -1\n",
    "operacion -= 1\n",
    "print(operacion)"
   ]
  },
  {
   "cell_type": "code",
   "execution_count": 38,
   "metadata": {},
   "outputs": [
    {
     "data": {
      "text/plain": [
       "(0.6283184, 15.70796, 3.141592, 9.869600294464002)"
      ]
     },
     "execution_count": 38,
     "metadata": {},
     "output_type": "execute_result"
    }
   ],
   "source": [
    "#Mas operaciones aritméticas\n",
    "\n",
    "pi/num , pi *num, pi % num , pi**2"
   ]
  },
  {
   "cell_type": "code",
   "execution_count": 39,
   "metadata": {},
   "outputs": [
    {
     "name": "stdout",
     "output_type": "stream",
     "text": [
      "3.1333333333333333\n"
     ]
    }
   ],
   "source": [
    "# Reporte de notas de tres cortes: 3.2, 2.2, 4, ¿paso la materia?\n",
    "\n",
    "agregado = 3.2+2.2+4\n",
    "promedio = agregado / 3\n",
    "print(promedio)"
   ]
  },
  {
   "cell_type": "code",
   "execution_count": 41,
   "metadata": {},
   "outputs": [
    {
     "name": "stdout",
     "output_type": "stream",
     "text": [
      "3.1333333333333333\n"
     ]
    }
   ],
   "source": [
    "agregado = [3.2, 2.2, 4]\n",
    "promedio = sum(agregado)/ len(agregado)\n",
    "print(promedio)"
   ]
  },
  {
   "cell_type": "code",
   "execution_count": 42,
   "metadata": {},
   "outputs": [
    {
     "name": "stdout",
     "output_type": "stream",
     "text": [
      "<class 'bool'>\n",
      "False\n",
      "False\n",
      "True\n"
     ]
    }
   ],
   "source": [
    "# Variables booleanas\n",
    "\n",
    "print(type(True))\n",
    "\n",
    "# Operadores lógicos\n",
    "\n",
    "print(not True) #Negación lógica\n",
    "print(True & False) #Conjunción lógica y\n",
    "print(True | False) #Disyunción lógica ó"
   ]
  },
  {
   "cell_type": "code",
   "execution_count": 74,
   "metadata": {},
   "outputs": [],
   "source": [
    "# Operadores de comparación\n",
    "\n",
    "# >,<,==,!="
   ]
  },
  {
   "attachments": {},
   "cell_type": "markdown",
   "metadata": {},
   "source": [
    "## 2. Estructuras básicas de de datos\n",
    "En python existen 3 estructuras básicas de datos: listas, tuplas, diccionarios\n",
    "\n",
    "### Listas\n",
    "Las listas son la estructura de datos mas usada (array, vector): los elementos se separan por coma, podemos alojar diferentes tipos de elementos, son **mutables**"
   ]
  },
  {
   "cell_type": "code",
   "execution_count": 59,
   "metadata": {},
   "outputs": [
    {
     "name": "stdout",
     "output_type": "stream",
     "text": [
      "[1, 2, 3, 4, 5, 6, 7, 8, 9, 10]\n"
     ]
    }
   ],
   "source": [
    "num = [] #decalarar lista\n",
    "num = [1,2,3,4,5,6,7,8,9,10]\n",
    "print(num)"
   ]
  },
  {
   "cell_type": "code",
   "execution_count": 16,
   "metadata": {},
   "outputs": [
    {
     "name": "stdout",
     "output_type": "stream",
     "text": [
      "[1, 3, 5, 7, 9, 11, 13, 15, 17, 19]\n",
      "<class 'list'>\n"
     ]
    }
   ],
   "source": [
    "num = list(range(1,21,2)) #start, stop, step\n",
    "print(num)\n",
    "print(type(num))"
   ]
  },
  {
   "cell_type": "code",
   "execution_count": 61,
   "metadata": {},
   "outputs": [
    {
     "name": "stdout",
     "output_type": "stream",
     "text": [
      "[1, 3, 5, 7, 12, 11, 13, 15, 17, 19]\n"
     ]
    }
   ],
   "source": [
    "# indexing\n",
    "num[4] = 12\n",
    "print(lis_2 )"
   ]
  },
  {
   "cell_type": "code",
   "execution_count": 3,
   "metadata": {},
   "outputs": [
    {
     "data": {
      "text/plain": [
       "[1, 5, 9, 13, 17]"
      ]
     },
     "execution_count": 3,
     "metadata": {},
     "output_type": "execute_result"
    }
   ],
   "source": [
    "lis_2 [:5] #del inicio hasta el indice 5\n",
    "lis_2 [:] # del inicio hasta el fin\n",
    "lis_2 [::2] # start, stop, step"
   ]
  },
  {
   "cell_type": "code",
   "execution_count": 4,
   "metadata": {},
   "outputs": [
    {
     "name": "stdout",
     "output_type": "stream",
     "text": [
      "[2, 6, 8, 7, 9, 11, 13, 15, 17, 19]\n"
     ]
    }
   ],
   "source": [
    "lis_2 [:3] = [2,6,8]\n",
    "print(lis_2 )"
   ]
  },
  {
   "cell_type": "code",
   "execution_count": 5,
   "metadata": {},
   "outputs": [
    {
     "name": "stdout",
     "output_type": "stream",
     "text": [
      "[2, 6, 8, 7, 9, 11, 13, 15, 17, 19, 21]\n"
     ]
    }
   ],
   "source": [
    "# Métodos en las listas\n",
    "# CRUD: create, read, update and delete (Consultas SQL)\n",
    "\n",
    "#Update\n",
    "\n",
    "lis_2 .append(21) #Agrega un nuevo elemento al final\n",
    "print(num)"
   ]
  },
  {
   "cell_type": "code",
   "execution_count": 6,
   "metadata": {},
   "outputs": [
    {
     "data": {
      "text/plain": [
       "['Hola', 2, 6, 8, 7, 9, 11, 13, 15, 17, 19, 21]"
      ]
     },
     "execution_count": 6,
     "metadata": {},
     "output_type": "execute_result"
    }
   ],
   "source": [
    "num.insert(0,'Hola') #inserta la palabra en la indexación dada\n",
    "num"
   ]
  },
  {
   "cell_type": "code",
   "execution_count": 7,
   "metadata": {},
   "outputs": [
    {
     "data": {
      "text/plain": [
       "1"
      ]
     },
     "execution_count": 7,
     "metadata": {},
     "output_type": "execute_result"
    }
   ],
   "source": [
    "num.index(2) #en qué posición está el argumento"
   ]
  },
  {
   "cell_type": "code",
   "execution_count": 12,
   "metadata": {},
   "outputs": [
    {
     "data": {
      "text/plain": [
       "19"
      ]
     },
     "execution_count": 12,
     "metadata": {},
     "output_type": "execute_result"
    }
   ],
   "source": [
    "num.pop(0) #Elimina la posición que le damos"
   ]
  },
  {
   "cell_type": "code",
   "execution_count": 9,
   "metadata": {},
   "outputs": [
    {
     "name": "stdout",
     "output_type": "stream",
     "text": [
      "[2, 6, 8, 7, 9, 11, 13, 15, 17, 19, 21]\n",
      "[2, 6, 8, 7, 9, 11, 13, 15, 17, 19]\n"
     ]
    }
   ],
   "source": [
    "print(num)\n",
    "num.pop() # Elimina el último\n",
    "print(num)"
   ]
  },
  {
   "cell_type": "code",
   "execution_count": 10,
   "metadata": {},
   "outputs": [
    {
     "name": "stdout",
     "output_type": "stream",
     "text": [
      "[2, 6, 7, 8, 9, 11, 13, 15, 17, 19]\n"
     ]
    }
   ],
   "source": [
    "num.sort() #Ordena de manera ascendente\n",
    "print(num)"
   ]
  },
  {
   "cell_type": "code",
   "execution_count": 11,
   "metadata": {},
   "outputs": [
    {
     "name": "stdout",
     "output_type": "stream",
     "text": [
      "[19, 17, 15, 13, 11, 9, 8, 7, 6, 2]\n"
     ]
    }
   ],
   "source": [
    "num.reverse() #Ordena descendentemente\n",
    "print(num)"
   ]
  },
  {
   "cell_type": "code",
   "execution_count": 17,
   "metadata": {},
   "outputs": [
    {
     "name": "stdout",
     "output_type": "stream",
     "text": [
      "generamos lista:  [1, 3, 5, 7, 9, 11, 13, 15, 17, 19]\n",
      "Cambiamos orden:\n",
      "Remplazamos datos:  [19, 17, 15, 13, 11, 111, 7, 5, 3, 300]\n"
     ]
    }
   ],
   "source": [
    "#Create\n",
    "# Creen una lista que de numeros impares desde 1 hasta 20\n",
    "# Lo ordenen de manera descendente\n",
    "# Remplacen el número 3 por 300 y el 11 por 111\n",
    "\n",
    "lis_2 = list(range(1,21,2))\n",
    "print('generamos lista: ', lis_2 )\n",
    "lis_2 .reverse()\n",
    "print('Cambiamos orden:', )\n",
    "lis_2 [9] = 300\n",
    "lis_2 [5] = 111\n",
    "print('Remplazamos datos: ', lis_2 )"
   ]
  },
  {
   "cell_type": "code",
   "execution_count": 18,
   "metadata": {},
   "outputs": [
    {
     "data": {
      "text/plain": [
       "[19, 17, 15, 13, 11, 111, 7, 5, 3, 300, 1, 3, 5, 7, 9, 11, 13, 15, 17, 19]"
      ]
     },
     "execution_count": 18,
     "metadata": {},
     "output_type": "execute_result"
    }
   ],
   "source": [
    "lis_2 + num #Fusionar listas"
   ]
  },
  {
   "cell_type": "code",
   "execution_count": 22,
   "metadata": {},
   "outputs": [
    {
     "name": "stdout",
     "output_type": "stream",
     "text": [
      "<class 'dict'>\n"
     ]
    }
   ],
   "source": [
    "##########################\n",
    "##### Diccionarios #######\n",
    "# Indexación\n",
    "\n",
    "dic = {}\n",
    "print(type(dic))"
   ]
  },
  {
   "cell_type": "code",
   "execution_count": 23,
   "metadata": {},
   "outputs": [],
   "source": [
    "dic = {\n",
    "    'Columna 1': list(range(1,11)),\n",
    "    'Columna 2': list(range(10,21)),\n",
    "    'Columna 3': list(range(20,31))\n",
    "}"
   ]
  },
  {
   "cell_type": "code",
   "execution_count": 24,
   "metadata": {},
   "outputs": [
    {
     "name": "stdout",
     "output_type": "stream",
     "text": [
      "{'Columna 1': [1, 2, 3, 4, 5, 6, 7, 8, 9, 10], 'Columna 2': [10, 11, 12, 13, 14, 15, 16, 17, 18, 19, 20], 'Columna 3': [20, 21, 22, 23, 24, 25, 26, 27, 28, 29, 30]}\n"
     ]
    }
   ],
   "source": [
    "print(dic)"
   ]
  },
  {
   "cell_type": "code",
   "execution_count": 26,
   "metadata": {},
   "outputs": [
    {
     "name": "stdout",
     "output_type": "stream",
     "text": [
      "[1, 2, 3, 4, 5, 6, 7, 8, 9, 10]\n"
     ]
    }
   ],
   "source": [
    "print(dic['Columna 1'])"
   ]
  },
  {
   "cell_type": "code",
   "execution_count": null,
   "metadata": {},
   "outputs": [],
   "source": []
  },
  {
   "cell_type": "code",
   "execution_count": null,
   "metadata": {},
   "outputs": [
    {
     "name": "stdout",
     "output_type": "stream",
     "text": [
      "{'One': 1, 'Two': 2, 'Three': 3, 'Four': 4}\n"
     ]
    }
   ],
   "source": [
    "# Dictionary example\n",
    "\n",
    "dic_1 = {'One': 1,\n",
    "         'Two': 2,\n",
    "         'Three': 3,\n",
    "         'Four': 4\n",
    "         }\n",
    "\n",
    "print(dic_1)"
   ]
  },
  {
   "cell_type": "code",
   "execution_count": null,
   "metadata": {},
   "outputs": [
    {
     "name": "stdout",
     "output_type": "stream",
     "text": [
      "1\n",
      "3\n"
     ]
    }
   ],
   "source": [
    "# Dictionary indexing (key)\n",
    "\n",
    "print(dic_1['One'])\n",
    "print(dic_1['Three'])"
   ]
  },
  {
   "cell_type": "code",
   "execution_count": null,
   "metadata": {},
   "outputs": [
    {
     "name": "stdout",
     "output_type": "stream",
     "text": [
      "{'nombres': ['Juan', 'Pedro', 'Maria'], 'edades': [20, 10, 15]}\n",
      "['Juan', 'Pedro', 'Maria']\n",
      "Pedro\n",
      "10\n"
     ]
    }
   ],
   "source": [
    "#combination of dictionaries and lists\n",
    "\n",
    "comb_1 = {\n",
    "    'nombres': ['Juan', 'Pedro', 'Maria'],\n",
    "    'edades': [20, 10, 15]\n",
    "}\n",
    "print(comb_1)\n",
    "print(comb_1['nombres'])\n",
    "print(comb_1['nombres'][1])\n",
    "print(comb_1['edades'][1])"
   ]
  },
  {
   "cell_type": "code",
   "execution_count": null,
   "metadata": {},
   "outputs": [
    {
     "name": "stdout",
     "output_type": "stream",
     "text": [
      "[{'nombre': 'Juan', 'edad': 20}, {'nombre': 'Pedro', 'edad': 20}, {'nombre': 'Maria', 'edad': 15}]\n",
      "Pedro\n",
      "20\n"
     ]
    }
   ],
   "source": [
    "# dictionary lists\n",
    "\n",
    "mi_otra_com = [\n",
    "    {\n",
    "        'nombre': 'Juan',\n",
    "        'edad': 20\n",
    "    },\n",
    "    {\n",
    "        'nombre': 'Pedro',\n",
    "        'edad': 20\n",
    "    },\n",
    "    {\n",
    "        'nombre': 'Maria',\n",
    "        'edad': 15\n",
    "    },\n",
    "]\n",
    "\n",
    "print(mi_otra_com)\n",
    "print(mi_otra_com[1]['nombre'])\n",
    "print(mi_otra_com[1]['edad'])"
   ]
  },
  {
   "cell_type": "markdown",
   "metadata": {},
   "source": [
    "## Para casa\n",
    "\n",
    "1. Crear una lista que contenga los números impares del 1 al 100\n",
    "2. Crear un diccionario que tenga tres listas que vayan de: 0 al 9, 10 al 19 y 20 a 29.\n",
    "3. Cree una lista que contenga 3 listas de 3 registros cada una. Imprima el segundo valor del tercer registro.\n",
    "4. Crre un diccionario con 3 diccionarios donde cada diccionario registre tres valores cualesquiera (ejm. nombre, sexo, edad)"
   ]
  }
 ],
 "metadata": {
  "kernelspec": {
   "display_name": "Python 3",
   "language": "python",
   "name": "python3"
  },
  "language_info": {
   "codemirror_mode": {
    "name": "ipython",
    "version": 3
   },
   "file_extension": ".py",
   "mimetype": "text/x-python",
   "name": "python",
   "nbconvert_exporter": "python",
   "pygments_lexer": "ipython3",
   "version": "3.11.3"
  },
  "orig_nbformat": 4
 },
 "nbformat": 4,
 "nbformat_minor": 2
}
