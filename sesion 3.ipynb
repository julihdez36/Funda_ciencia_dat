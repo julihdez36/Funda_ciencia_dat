{
 "cells": [
  {
   "cell_type": "code",
   "execution_count": 7,
   "id": "6134850a",
   "metadata": {},
   "outputs": [],
   "source": [
    "# import numpy as np \n",
    "\n",
    "import numpy as np\n",
    "import matplotlib.pyplot as plt"
   ]
  },
  {
   "cell_type": "code",
   "execution_count": 26,
   "id": "92bd7435",
   "metadata": {},
   "outputs": [
    {
     "data": {
      "text/plain": [
       "array([72.49243266, 66.49243266, 74.49243266, 84.49243266, 76.49243266,\n",
       "       57.49243266, 90.49243266, 34.49243266, 82.49243266, 73.49243266,\n",
       "       52.49243266, 54.49243266, 80.49243266, 76.49243266, 63.49243266,\n",
       "       51.49243266, 59.49243266, 81.49243266, 48.49243266, 76.49243266,\n",
       "       50.49243266, 44.49243266, 75.49243266, 99.49243266, 80.49243266,\n",
       "       68.49243266, 98.49243266, 53.49243266, 38.49243266, 35.49243266,\n",
       "       99.49243266, 69.49243266, 48.49243266, 68.49243266, 82.49243266,\n",
       "       28.49243266, 86.49243266, 90.49243266, 48.49243266, 49.49243266,\n",
       "       50.49243266, 99.49243266, 74.49243266, 94.49243266, 77.49243266,\n",
       "       38.49243266, 33.49243266, 75.49243266, 58.49243266, 97.49243266,\n",
       "       86.49243266, 60.49243266, 53.49243266, 62.49243266, 42.49243266,\n",
       "       89.49243266, 86.49243266, 95.49243266, 47.49243266, 51.49243266,\n",
       "       89.49243266, 47.49243266, 26.49243266, 72.49243266, 91.49243266,\n",
       "       82.49243266, 45.49243266, 25.49243266, 54.49243266, 47.49243266,\n",
       "       47.49243266, 72.49243266, 93.49243266, 63.49243266, 68.49243266,\n",
       "       74.49243266, 43.49243266, 41.49243266, 67.49243266, 60.49243266,\n",
       "       52.49243266, 36.49243266, 26.49243266, 30.49243266, 85.49243266,\n",
       "       99.49243266, 42.49243266, 89.49243266, 32.49243266, 61.49243266,\n",
       "       30.49243266, 34.49243266, 32.49243266, 54.49243266, 50.49243266,\n",
       "       78.49243266, 40.49243266, 30.49243266, 64.49243266, 25.49243266])"
      ]
     },
     "execution_count": 26,
     "metadata": {},
     "output_type": "execute_result"
    }
   ],
   "source": [
    "s = np.random.randint(25,100,100) + np.random.random()\n",
    "s"
   ]
  },
  {
   "cell_type": "code",
   "execution_count": 28,
   "id": "5b5f7b65",
   "metadata": {},
   "outputs": [
    {
     "data": {
      "text/plain": [
       "array([44.49243266, 68.49243266])"
      ]
     },
     "execution_count": 28,
     "metadata": {},
     "output_type": "execute_result"
    }
   ],
   "source": [
    "np.random.choice(s,2)"
   ]
  },
  {
   "cell_type": "code",
   "execution_count": 35,
   "id": "14ffeaec",
   "metadata": {},
   "outputs": [],
   "source": [
    "# Ejemplo de tirada de moneda\n",
    "\n",
    "lanzamiento = ['Cara','Cruz']\n",
    "muestra = np.random.choice(lanzamiento,100)"
   ]
  },
  {
   "cell_type": "code",
   "execution_count": null,
   "id": "782683d0",
   "metadata": {},
   "outputs": [],
   "source": [
    "muestra.values_count()"
   ]
  },
  {
   "cell_type": "code",
   "execution_count": 40,
   "id": "79266615",
   "metadata": {},
   "outputs": [
    {
     "data": {
      "text/plain": [
       "(numpy.ndarray, array([0, 1, 2, 3, 4, 5, 6, 7, 8, 9]))"
      ]
     },
     "execution_count": 40,
     "metadata": {},
     "output_type": "execute_result"
    }
   ],
   "source": [
    "v = np.array(list(range(10)))\n",
    "type(v), v"
   ]
  },
  {
   "cell_type": "code",
   "execution_count": 39,
   "id": "1361bb7e",
   "metadata": {},
   "outputs": [
    {
     "data": {
      "text/plain": [
       "array([[0., 1., 2., 3., 4.]])"
      ]
     },
     "execution_count": 39,
     "metadata": {},
     "output_type": "execute_result"
    }
   ],
   "source": [
    "np.array([list(range(5))], dtype = 'float64')"
   ]
  },
  {
   "cell_type": "code",
   "execution_count": 44,
   "id": "537652a2",
   "metadata": {},
   "outputs": [
    {
     "data": {
      "text/plain": [
       "array([ 0.        ,  0.90909091,  1.81818182,  2.72727273,  3.63636364,\n",
       "        4.54545455,  5.45454545,  6.36363636,  7.27272727,  8.18181818,\n",
       "        9.09090909, 10.        ])"
      ]
     },
     "execution_count": 44,
     "metadata": {},
     "output_type": "execute_result"
    }
   ],
   "source": [
    "np.arange(1,10,2)\n",
    "np.linspace(0,10,12)"
   ]
  },
  {
   "cell_type": "code",
   "execution_count": 48,
   "id": "101b2c50",
   "metadata": {},
   "outputs": [],
   "source": [
    "np.random.rand(4,4)\n",
    "x = np.random.randint(1,15,(4,4))"
   ]
  },
  {
   "cell_type": "code",
   "execution_count": 51,
   "id": "013ea74e",
   "metadata": {},
   "outputs": [
    {
     "data": {
      "text/plain": [
       "array([[ 2, 10,  8,  2,  4, 12,  1,  3],\n",
       "       [ 7,  4,  9,  7,  6,  3, 13,  8]], dtype=int32)"
      ]
     },
     "execution_count": 51,
     "metadata": {},
     "output_type": "execute_result"
    }
   ],
   "source": [
    "x.shape\n",
    "x_transformado = x.reshape(2,8)\n",
    "x_transformado"
   ]
  },
  {
   "cell_type": "code",
   "execution_count": 52,
   "id": "2515c0dd",
   "metadata": {},
   "outputs": [
    {
     "data": {
      "text/plain": [
       "array([[ 2, 17,  9,  8,  9,  5, 12,  9, 19, 15],\n",
       "       [12, 12,  2,  7, 11, 10, 18,  7, 17,  6],\n",
       "       [ 6,  8, 17,  2,  1, 13, 11, 12,  3,  7],\n",
       "       [11,  7,  8, 16, 10,  9,  2, 14,  8,  6],\n",
       "       [ 4,  2, 10,  5, 14, 12, 19,  9,  8,  3],\n",
       "       [16, 12, 18,  4, 14, 13,  9,  4, 10,  7],\n",
       "       [ 5,  2, 18,  7,  8, 10,  4,  3,  9, 16],\n",
       "       [12,  9,  5, 12, 10, 11, 13, 18, 12,  7],\n",
       "       [10, 19,  6, 16,  1,  8,  7, 14, 19, 19],\n",
       "       [18,  6,  8, 13,  0,  7,  1, 13, 15,  8]], dtype=int32)"
      ]
     },
     "execution_count": 52,
     "metadata": {},
     "output_type": "execute_result"
    }
   ],
   "source": [
    "matriz = np.random.randint(0,20,[10,10])\n",
    "matriz"
   ]
  },
  {
   "cell_type": "code",
   "execution_count": 55,
   "id": "e9119ee9",
   "metadata": {},
   "outputs": [
    {
     "data": {
      "text/plain": [
       "np.float64(5.028916384272063)"
      ]
     },
     "execution_count": 55,
     "metadata": {},
     "output_type": "execute_result"
    }
   ],
   "source": [
    "np.mean(matriz)\n",
    "np.median(matriz)\n",
    "np.std(matriz)"
   ]
  },
  {
   "cell_type": "code",
   "execution_count": 63,
   "id": "04754a4a",
   "metadata": {},
   "outputs": [
    {
     "data": {
      "text/plain": [
       "array([[ 9, 12,  7],\n",
       "       [19, 16, 19],\n",
       "       [ 6, 13,  8]], dtype=int32)"
      ]
     },
     "execution_count": 63,
     "metadata": {},
     "output_type": "execute_result"
    }
   ],
   "source": [
    "matriz[-3:,[1,3,-1]]"
   ]
  },
  {
   "cell_type": "markdown",
   "id": "120b810e",
   "metadata": {},
   "source": [
    "# Para casa\n",
    "1. Cree una matriz de 8 por 8 de valores enteros aleatorios entre 0 y 20\n",
    "\n",
    "2. Cree un nuevo objeto que sea la misma matriz pero con 4 columnas\n",
    "\n",
    "3. Acceda a la posición (6,4) de la matriz 1\n",
    "\n",
    "4. Acceda a la posición (16,4) de la matriz 1\n",
    "\n",
    "5. Acceda a la matriz subconjunto de la matriz 1 que va de la fila 5 a la 8 y de la columna 3 a la 7.\n",
    "\n",
    "6. Cree un vector aleatorio de 60 elementos entre 0 y 100. Asuma que es un vector de edades de una muestra. Calcule la medidas de estadisticas e interprete.\n"
   ]
  },
  {
   "cell_type": "code",
   "execution_count": 65,
   "id": "5e8bc10e",
   "metadata": {},
   "outputs": [],
   "source": [
    "df = np.loadtxt('https://raw.githubusercontent.com/julihdez36/Funda_ciencia_dat/refs/heads/main/scientific/creditcard.csv', delimiter= ',', skiprows= 1, dtype= float)"
   ]
  },
  {
   "cell_type": "code",
   "execution_count": 67,
   "id": "ae7c2f6c",
   "metadata": {},
   "outputs": [
    {
     "data": {
      "text/plain": [
       "(284807, 31)"
      ]
     },
     "execution_count": 67,
     "metadata": {},
     "output_type": "execute_result"
    }
   ],
   "source": [
    "df.shape"
   ]
  },
  {
   "cell_type": "code",
   "execution_count": null,
   "id": "97ddfcc4",
   "metadata": {},
   "outputs": [],
   "source": []
  },
  {
   "cell_type": "code",
   "execution_count": null,
   "id": "2d6e23d7",
   "metadata": {},
   "outputs": [],
   "source": []
  }
 ],
 "metadata": {
  "kernelspec": {
   "display_name": "base",
   "language": "python",
   "name": "python3"
  },
  "language_info": {
   "codemirror_mode": {
    "name": "ipython",
    "version": 3
   },
   "file_extension": ".py",
   "mimetype": "text/x-python",
   "name": "python",
   "nbconvert_exporter": "python",
   "pygments_lexer": "ipython3",
   "version": "3.11.9"
  }
 },
 "nbformat": 4,
 "nbformat_minor": 5
}
