{
 "cells": [
  {
   "cell_type": "markdown",
   "id": "3da91c1a",
   "metadata": {},
   "source": [
    "#### Segunda sesión seminario de nivelación"
   ]
  },
  {
   "cell_type": "code",
   "execution_count": 1,
   "id": "40b8e8a1",
   "metadata": {},
   "outputs": [],
   "source": [
    "import random\n",
    "import statistics"
   ]
  },
  {
   "cell_type": "code",
   "execution_count": 2,
   "id": "06b69ac1",
   "metadata": {},
   "outputs": [
    {
     "name": "stdout",
     "output_type": "stream",
     "text": [
      "[91, 73, 88, 75, 58, 33, 81, 52, 33, 80, 65, 57, 44, 58, 30, 36, 89, 59, 63, 49]\n"
     ]
    }
   ],
   "source": [
    "# lista = []\n",
    "# for _ in range(20):\n",
    "#     lista.append(int(random.uniform(25,100)))\n",
    "\n",
    "# lista\n",
    "\n",
    "vector = [int(random.uniform(25,100)) for _ in range(20)]\n",
    "print(vector)"
   ]
  },
  {
   "cell_type": "code",
   "execution_count": 3,
   "id": "770d5eb7",
   "metadata": {},
   "outputs": [],
   "source": [
    "def suma_interna(x):\n",
    "    suma = 0 # escalar\n",
    "    for i in x:\n",
    "        suma += i\n",
    "        # suma = suma + i\n",
    "    return suma"
   ]
  },
  {
   "cell_type": "code",
   "execution_count": 4,
   "id": "7dd059ff",
   "metadata": {},
   "outputs": [
    {
     "data": {
      "text/plain": [
       "(1214, 1214)"
      ]
     },
     "execution_count": 4,
     "metadata": {},
     "output_type": "execute_result"
    }
   ],
   "source": [
    "suma_interna(vector), sum(vector)"
   ]
  },
  {
   "cell_type": "code",
   "execution_count": 5,
   "id": "771ca824",
   "metadata": {},
   "outputs": [],
   "source": [
    "# Función de rango\n",
    "\n",
    "def rango_estadistico(ingreso_lista):\n",
    "    minimo = min(ingreso_lista)\n",
    "    maximo = max(ingreso_lista)\n",
    "    return maximo - minimo"
   ]
  },
  {
   "cell_type": "code",
   "execution_count": 6,
   "id": "9446166c",
   "metadata": {},
   "outputs": [],
   "source": [
    "# Media aritmética\n",
    "\n",
    "def media(lista):\n",
    "    return sum(lista) / len(lista)"
   ]
  },
  {
   "cell_type": "code",
   "execution_count": 7,
   "id": "17ea2656",
   "metadata": {},
   "outputs": [],
   "source": [
    "def varianza(lista):\n",
    "    n = len(lista) # longitud del vector\n",
    "    x_barra = media(lista) # media que creamos arriba\n",
    "    diferencia = [] # lista vacia para ir rellenando\n",
    "    for x in lista:\n",
    "        diferencia.append((x - x_barra)**2) # la diferencia al cuadrado\n",
    "    return 1/(n-1) * sum(diferencia) "
   ]
  },
  {
   "cell_type": "code",
   "execution_count": 8,
   "id": "f5bad66b",
   "metadata": {},
   "outputs": [
    {
     "name": "stdout",
     "output_type": "stream",
     "text": [
      "60.7 60.7\n",
      "380.9578947368421 380.9578947368421\n"
     ]
    }
   ],
   "source": [
    "print(media(vector), statistics.mean(vector))\n",
    "print(varianza(vector), statistics.variance(vector))"
   ]
  },
  {
   "cell_type": "code",
   "execution_count": 9,
   "id": "8413bd82",
   "metadata": {},
   "outputs": [
    {
     "data": {
      "text/plain": [
       "-5.684341886080802e-14"
      ]
     },
     "execution_count": 9,
     "metadata": {},
     "output_type": "execute_result"
    }
   ],
   "source": [
    "# Prueba práctica de que la media es el punto de gravedad\n",
    "\n",
    "diferencias = []\n",
    "for i in vector:\n",
    "    diferencias.append(i - media(vector))\n",
    "\n",
    "suma_interna(diferencias)"
   ]
  },
  {
   "cell_type": "code",
   "execution_count": 10,
   "id": "e028dd8f",
   "metadata": {},
   "outputs": [],
   "source": [
    "def desviacion_estandar(x):\n",
    "    return varianza(x)** (1/2)"
   ]
  },
  {
   "cell_type": "code",
   "execution_count": 11,
   "id": "d99c9713",
   "metadata": {},
   "outputs": [
    {
     "data": {
      "text/plain": [
       "(19.51814270715434, 19.51814270715434)"
      ]
     },
     "execution_count": 11,
     "metadata": {},
     "output_type": "execute_result"
    }
   ],
   "source": [
    "desviacion_estandar(vector), statistics.stdev(vector)"
   ]
  },
  {
   "cell_type": "code",
   "execution_count": 12,
   "id": "964a73a8",
   "metadata": {},
   "outputs": [],
   "source": [
    "def coef_var(x):\n",
    "    return desviacion_estandar(vector) / media(vector)"
   ]
  },
  {
   "cell_type": "code",
   "execution_count": null,
   "id": "efc6ff02",
   "metadata": {},
   "outputs": [
    {
     "data": {
      "text/plain": [
       "0.32155095069447015"
      ]
     },
     "execution_count": 13,
     "metadata": {},
     "output_type": "execute_result"
    }
   ],
   "source": [
    "coef_var(vector) # Métrica normalizada"
   ]
  }
 ],
 "metadata": {
  "kernelspec": {
   "display_name": "base",
   "language": "python",
   "name": "python3"
  },
  "language_info": {
   "codemirror_mode": {
    "name": "ipython",
    "version": 3
   },
   "file_extension": ".py",
   "mimetype": "text/x-python",
   "name": "python",
   "nbconvert_exporter": "python",
   "pygments_lexer": "ipython3",
   "version": "3.11.9"
  }
 },
 "nbformat": 4,
 "nbformat_minor": 5
}
